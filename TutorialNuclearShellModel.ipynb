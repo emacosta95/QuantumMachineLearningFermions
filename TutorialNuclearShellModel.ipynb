{
 "cells": [
  {
   "cell_type": "markdown",
   "id": "845bde0a",
   "metadata": {},
   "source": [
    "# How to deal with a Nuclear Shell Model (NSM) Hamiltonian -a funny guide to madness-"
   ]
  },
  {
   "cell_type": "markdown",
   "id": "e6d9003d",
   "metadata": {},
   "source": [
    "NSM Hamiltonians are many-body Hamiltonians represented in a single particle framework (or nucleon modes) described by Valence orbitals (with the famous set of quantum numbers that describe the 3D harmonic oscillator $|n,l,j,m,t,t_z\\rangle$. The last two quantum numbers describe the isospin of the nucleons (proton or neutron).\n",
    "\n",
    "First of all, we need to commit: we need to decide which Valence shell we are going to use. This choice translates in selecting the proper \"nuclear_interaction.txt\" file related to the correspoding valence shell.\n",
    "\n",
    "- p shell --> 'data/cki' file \n",
    "- sd shell --> 'data/usdb.nat' file \n",
    "- pf shell --> 'data/gxpf1a' file \n",
    "\n",
    "Don't worry about these names, for you these simply are file text with matrix entries that are going to be the parameters of your NSM Hamiltonian:\n",
    "$$\n",
    "H=\\sum_a c^{+}_a c_a + \\frac{1}{4}\\sum_{abcd} v_{abdc} c^{+}_a c^{+}_b c_c c_d.\n",
    "$$\n",
    "\n",
    "Ok, too much verbose, let's start with the Imports"
   ]
  },
  {
   "cell_type": "code",
   "execution_count": 1,
   "id": "797368f4",
   "metadata": {},
   "outputs": [],
   "source": [
    "from src.NSMFermions.hamiltonian_utils import FermiHubbardHamiltonian # the many-body Hamiltonian class\n",
    "from src.NSMFermions.nuclear_physics_utils import SingleParticleState,J2operator,get_twobody_nuclearshell_model # routines and class useful for the nuclear part\n",
    "import scipy # just scipy, easy, no?\n",
    "import numpy as np \n",
    "import matplotlib.pyplot as plt # to plot things"
   ]
  },
  {
   "cell_type": "markdown",
   "id": "e82d759f",
   "metadata": {},
   "source": [
    "We initialize the Single Particle State class with the corresponding file text. We also initialize the number of proton neutron and the corresponding number of modes for each nucleon"
   ]
  },
  {
   "cell_type": "code",
   "execution_count": 2,
   "id": "9beebfaf",
   "metadata": {},
   "outputs": [
    {
     "name": "stdout",
     "output_type": "stream",
     "text": [
      "labels= ['1', '3', '205', '1001', '203']\n",
      "single particle energies= [-3.9257 -3.9257 -3.9257 -3.9257 -3.9257 -3.9257 -3.2079 -3.2079  2.1117\n",
      "  2.1117  2.1117  2.1117 -3.9257 -3.9257 -3.9257 -3.9257 -3.9257 -3.9257\n",
      " -3.2079 -3.2079  2.1117  2.1117  2.1117  2.1117] \n",
      "\n",
      "mapping between nucleon modes a and the quantum numbers [(0, 2, 2.5, np.float64(-2.5), 0.5, 0.5), (0, 2, 2.5, np.float64(-1.5), 0.5, 0.5), (0, 2, 2.5, np.float64(-0.5), 0.5, 0.5), (0, 2, 2.5, np.float64(0.5), 0.5, 0.5), (0, 2, 2.5, np.float64(1.5), 0.5, 0.5), (0, 2, 2.5, np.float64(2.5), 0.5, 0.5), (1, 0, 0.5, np.float64(-0.5), 0.5, 0.5), (1, 0, 0.5, np.float64(0.5), 0.5, 0.5), (0, 2, 1.5, np.float64(-1.5), 0.5, 0.5), (0, 2, 1.5, np.float64(-0.5), 0.5, 0.5), (0, 2, 1.5, np.float64(0.5), 0.5, 0.5), (0, 2, 1.5, np.float64(1.5), 0.5, 0.5), (0, 2, 2.5, np.float64(-2.5), 0.5, -0.5), (0, 2, 2.5, np.float64(-1.5), 0.5, -0.5), (0, 2, 2.5, np.float64(-0.5), 0.5, -0.5), (0, 2, 2.5, np.float64(0.5), 0.5, -0.5), (0, 2, 2.5, np.float64(1.5), 0.5, -0.5), (0, 2, 2.5, np.float64(2.5), 0.5, -0.5), (1, 0, 0.5, np.float64(-0.5), 0.5, -0.5), (1, 0, 0.5, np.float64(0.5), 0.5, -0.5), (0, 2, 1.5, np.float64(-1.5), 0.5, -0.5), (0, 2, 1.5, np.float64(-0.5), 0.5, -0.5), (0, 2, 1.5, np.float64(0.5), 0.5, -0.5), (0, 2, 1.5, np.float64(1.5), 0.5, -0.5)]\n"
     ]
    }
   ],
   "source": [
    "file_name='data/usdb.nat'\n",
    "\n",
    "SPS=SingleParticleState(file_name=file_name)\n",
    "# single particle energies\n",
    "print('single particle energies=',SPS.energies,'\\n')\n",
    "print('mapping between nucleon modes a and the quantum numbers',SPS.state_encoding)\n",
    "\n",
    "nucleon_modes_per_isospin=SPS.energies.shape[0]//2 # we are counting per species. I know, we need a .num_modes attribute\n",
    "\n",
    "num_neutrons=2\n",
    "num_protons=2"
   ]
  },
  {
   "cell_type": "markdown",
   "id": "36053f57",
   "metadata": {},
   "source": [
    "Now, we can initialize the NSM Hamiltonian and look at the many-body basis. It is a tensor with the first index as the many-body basis index and second index the corresponding nucleon modes in the tensor product basis state"
   ]
  },
  {
   "cell_type": "code",
   "execution_count": 3,
   "id": "795e69bc",
   "metadata": {},
   "outputs": [
    {
     "name": "stdout",
     "output_type": "stream",
     "text": [
      "[[1 1 0 ... 0 0 0]\n",
      " [1 1 0 ... 0 0 1]\n",
      " [1 0 1 ... 0 0 0]\n",
      " ...\n",
      " [0 0 0 ... 0 0 0]\n",
      " [0 0 0 ... 0 0 0]\n",
      " [0 0 0 ... 1 0 0]]\n"
     ]
    }
   ],
   "source": [
    "NSMHamiltonian=FermiHubbardHamiltonian(size_a=nucleon_modes_per_isospin,size_b=nucleon_modes_per_isospin,nparticles_a=num_neutrons,nparticles_b=num_protons,symmetries=[SPS.total_M_zero]) # the symmetry that we need is the M=0 condition, if we do not add anything we get the full many-body basis\n",
    "\n",
    "print(NSMHamiltonian.basis)\n"
   ]
  },
  {
   "cell_type": "markdown",
   "id": "2345b4b5",
   "metadata": {},
   "source": [
    "Now we initialize the NSM Hamiltonian, starting from the external potential $\\sum_a e_a c^{+}_a c_a$"
   ]
  },
  {
   "cell_type": "code",
   "execution_count": 4,
   "id": "f81b831e",
   "metadata": {},
   "outputs": [],
   "source": [
    "NSMHamiltonian.get_external_potential(external_potential=SPS.energies)"
   ]
  },
  {
   "cell_type": "markdown",
   "id": "bb6c30f1",
   "metadata": {},
   "source": [
    "Then we go to the two-body term, loading the matrix dict"
   ]
  },
  {
   "cell_type": "code",
   "execution_count": 5,
   "id": "971887dc",
   "metadata": {},
   "outputs": [
    {
     "name": "stdout",
     "output_type": "stream",
     "text": [
      "(1, 0, 0.5, np.float64(0.5), 0.5, -0.5) (0, 2, 2.5, np.float64(-0.5), 0.5, 0.5) (0, 2, 2.5, np.float64(-1.5), 0.5, 0.5) (0, 2, 2.5, np.float64(1.5), 0.5, -0.5)\n"
     ]
    }
   ],
   "source": [
    "print(SPS.state_encoding[19],SPS.state_encoding[2],SPS.state_encoding[1],SPS.state_encoding[16])\n",
    "\n"
   ]
  },
  {
   "cell_type": "code",
   "execution_count": 6,
   "id": "5edb5c84",
   "metadata": {},
   "outputs": [
    {
     "name": "stdout",
     "output_type": "stream",
     "text": [
      "labels= ['1', '3', '205', '1001', '203']\n",
      "Computing the matrix, pls wait... (u_u) \n",
      "\n"
     ]
    },
    {
     "name": "stderr",
     "output_type": "stream",
     "text": [
      "100%|██████████| 24/24 [00:54<00:00,  2.26s/it]\n",
      "16496it [01:44, 158.14it/s]\n"
     ]
    }
   ],
   "source": [
    "twobody_dict,_=get_twobody_nuclearshell_model(file_name=file_name)\n",
    "\n",
    "NSMHamiltonian.get_twobody_interaction(twobody_dict)\n",
    "\n"
   ]
  },
  {
   "cell_type": "markdown",
   "id": "e1ef608c",
   "metadata": {},
   "source": [
    "In order to use the hamiltonian, we need to compute the full Hamiltonian matrix, using get_hamiltonian()"
   ]
  },
  {
   "cell_type": "code",
   "execution_count": 7,
   "id": "cc6919b1",
   "metadata": {},
   "outputs": [],
   "source": [
    "NSMHamiltonian.get_hamiltonian()"
   ]
  },
  {
   "cell_type": "markdown",
   "id": "5f937f0c",
   "metadata": {},
   "source": [
    "At this point, getting the spectrum is easy as getting the empadronamiento in Barcelona (joke)"
   ]
  },
  {
   "cell_type": "code",
   "execution_count": 8,
   "id": "4b518509",
   "metadata": {},
   "outputs": [
    {
     "name": "stdout",
     "output_type": "stream",
     "text": [
      "energy ground state=-41.396 Mev \n",
      "\n"
     ]
    }
   ],
   "source": [
    "egs,psigs=NSMHamiltonian.get_spectrum(n_states=1) #we are only interested in the gs \n",
    "\n",
    "print(f'energy ground state={egs[0]:.5} Mev \\n')\n"
   ]
  },
  {
   "cell_type": "markdown",
   "id": "e2c07062",
   "metadata": {},
   "source": [
    "We can also play with other attributes that the Hamiltonian can provide, such as 2-body operators $T_{ab}^{cd}=c^{+}_a c^{+}_{b} c_c c_d$"
   ]
  },
  {
   "cell_type": "code",
   "execution_count": 20,
   "id": "322c3353",
   "metadata": {},
   "outputs": [
    {
     "name": "stdout",
     "output_type": "stream",
     "text": [
      "expectation value= 0.19708205121236266\n"
     ]
    }
   ],
   "source": [
    "t_0312=NSMHamiltonian.adag_adag_a_a_matrix(0,3,1,2) # it's a matrix in the many-body basis\n",
    "\n",
    "# we compute the expectation value using Scipy <psi| T_01^23 |psi>\n",
    "expectation_value=psigs[:,0].conjugate().dot(t_0312.dot(psigs[:,0])) # the 0 index is because  psigs \\in [dim(Hilbert space),n_states]\n",
    "print('expectation value=',expectation_value)"
   ]
  },
  {
   "cell_type": "markdown",
   "id": "1348a6d1",
   "metadata": {},
   "source": [
    "To call the Hamiltonian we simply use"
   ]
  },
  {
   "cell_type": "code",
   "execution_count": null,
   "id": "86821302",
   "metadata": {},
   "outputs": [],
   "source": [
    "print(NSMHamiltonian.hamiltonian)"
   ]
  }
 ],
 "metadata": {
  "kernelspec": {
   "display_name": "quantum_annealing_nsm",
   "language": "python",
   "name": "python3"
  },
  "language_info": {
   "codemirror_mode": {
    "name": "ipython",
    "version": 3
   },
   "file_extension": ".py",
   "mimetype": "text/x-python",
   "name": "python",
   "nbconvert_exporter": "python",
   "pygments_lexer": "ipython3",
   "version": "3.10.18"
  }
 },
 "nbformat": 4,
 "nbformat_minor": 5
}

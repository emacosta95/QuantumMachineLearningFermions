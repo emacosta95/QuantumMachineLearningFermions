{
 "cells": [
  {
   "cell_type": "markdown",
   "id": "845bde0a",
   "metadata": {},
   "source": [
    "# How to deal with a Nuclear Shell Model (NSM) Hamiltonian -a funny guide to madness-"
   ]
  },
  {
   "cell_type": "markdown",
   "id": "e6d9003d",
   "metadata": {},
   "source": [
    "NSM Hamiltonians are many-body Hamiltonians represented in a single particle framework (or nucleon modes) described by Valence orbitals (with the famous set of quantum numbers that describe the 3D harmonic oscillator $|n,l,j,m,t,t_z\\rangle$. The last two quantum numbers describe the isospin of the nucleons (proton or neutron).\n",
    "\n",
    "First of all, we need to commit: we need to decide which Valence shell we are going to use. This choice translates in selecting the proper \"nuclear_interaction.txt\" file related to the correspoding valence shell.\n",
    "\n",
    "- p shell --> 'data/cki' file \n",
    "- sd shell --> 'data/usdb.nat' file \n",
    "- pf shell --> 'data/gxpf1a' file \n",
    "\n",
    "Don't worry about these names, for you these simply are file text with matrix entries that are going to be the parameters of your NSM Hamiltonian:\n",
    "$$\n",
    "H=\\sum_a c^{+}_a c_a + \\frac{1}{4}\\sum_{abcd} v_{abdc} c^{+}_a c^{+}_b c_c c_d.\n",
    "$$\n",
    "\n",
    "Ok, too much verbose, let's start with the Imports"
   ]
  },
  {
   "cell_type": "code",
   "execution_count": 1,
   "id": "797368f4",
   "metadata": {},
   "outputs": [
    {
     "ename": "IndentationError",
     "evalue": "expected an indented block after 'if' statement on line 594 (fermi_hubbard_library.py, line 595)",
     "output_type": "error",
     "traceback": [
      "Traceback \u001b[0;36m(most recent call last)\u001b[0m:\n",
      "\u001b[0m  File \u001b[1;32m~/miniconda3/envs/quantum_annealing_nsm/lib/python3.10/site-packages/IPython/core/interactiveshell.py:3579\u001b[0m in \u001b[1;35mrun_code\u001b[0m\n    exec(code_obj, self.user_global_ns, self.user_ns)\u001b[0m\n",
      "\u001b[0m  Cell \u001b[1;32mIn[1], line 1\u001b[0m\n    from src.NSMFermions.hamiltonian_utils import FermiHubbardHamiltonian # the many-body Hamiltonian class\u001b[0m\n",
      "\u001b[0m  File \u001b[1;32m~/QuantumMachineLearningFermions/src/NSMFermions/__init__.py:1\u001b[0m\n    from .hamiltonian_utils import *\u001b[0m\n",
      "\u001b[0;36m  File \u001b[0;32m~/QuantumMachineLearningFermions/src/NSMFermions/hamiltonian_utils.py:7\u001b[0;36m\n\u001b[0;31m    from .fermi_hubbard_library import FemionicBasis\u001b[0;36m\n",
      "\u001b[0;36m  File \u001b[0;32m~/QuantumMachineLearningFermions/src/NSMFermions/fermi_hubbard_library.py:595\u001b[0;36m\u001b[0m\n\u001b[0;31m    basis = basis.astype(np.uint8)\u001b[0m\n\u001b[0m    ^\u001b[0m\n\u001b[0;31mIndentationError\u001b[0m\u001b[0;31m:\u001b[0m expected an indented block after 'if' statement on line 594\n"
     ]
    }
   ],
   "source": [
    "from src.NSMFermions.hamiltonian_utils import FermiHubbardHamiltonian # the many-body Hamiltonian class\n",
    "from src.NSMFermions.nuclear_physics_utils import SingleParticleState,J2operator,get_twobody_nuclearshell_model # routines and class useful for the nuclear part\n",
    "import scipy # just scipy, easy, no?\n",
    "import numpy as np \n",
    "import matplotlib.pyplot as plt # to plot things"
   ]
  },
  {
   "cell_type": "markdown",
   "id": "e82d759f",
   "metadata": {},
   "source": [
    "We initialize the Single Particle State class with the corresponding file text. We also initialize the number of proton neutron and the corresponding number of modes for each nucleon"
   ]
  },
  {
   "cell_type": "code",
   "execution_count": null,
   "id": "9beebfaf",
   "metadata": {},
   "outputs": [
    {
     "name": "stdout",
     "output_type": "stream",
     "text": [
      "single particle energies= [-3.9257 -3.9257 -3.9257 -3.9257 -3.9257 -3.9257 -3.2079 -3.2079  2.1117\n",
      "  2.1117  2.1117  2.1117 -3.9257 -3.9257 -3.9257 -3.9257 -3.9257 -3.9257\n",
      " -3.2079 -3.2079  2.1117  2.1117  2.1117  2.1117] \n",
      "\n",
      "mapping between nucleon modes a and the quantum numbers [(0, 2, 2.5, np.float64(-2.5), 0.5, 0.5), (0, 2, 2.5, np.float64(-1.5), 0.5, 0.5), (0, 2, 2.5, np.float64(-0.5), 0.5, 0.5), (0, 2, 2.5, np.float64(0.5), 0.5, 0.5), (0, 2, 2.5, np.float64(1.5), 0.5, 0.5), (0, 2, 2.5, np.float64(2.5), 0.5, 0.5), (1, 0, 0.5, np.float64(-0.5), 0.5, 0.5), (1, 0, 0.5, np.float64(0.5), 0.5, 0.5), (0, 2, 1.5, np.float64(-1.5), 0.5, 0.5), (0, 2, 1.5, np.float64(-0.5), 0.5, 0.5), (0, 2, 1.5, np.float64(0.5), 0.5, 0.5), (0, 2, 1.5, np.float64(1.5), 0.5, 0.5), (0, 2, 2.5, np.float64(-2.5), 0.5, -0.5), (0, 2, 2.5, np.float64(-1.5), 0.5, -0.5), (0, 2, 2.5, np.float64(-0.5), 0.5, -0.5), (0, 2, 2.5, np.float64(0.5), 0.5, -0.5), (0, 2, 2.5, np.float64(1.5), 0.5, -0.5), (0, 2, 2.5, np.float64(2.5), 0.5, -0.5), (1, 0, 0.5, np.float64(-0.5), 0.5, -0.5), (1, 0, 0.5, np.float64(0.5), 0.5, -0.5), (0, 2, 1.5, np.float64(-1.5), 0.5, -0.5), (0, 2, 1.5, np.float64(-0.5), 0.5, -0.5), (0, 2, 1.5, np.float64(0.5), 0.5, -0.5), (0, 2, 1.5, np.float64(1.5), 0.5, -0.5)]\n"
     ]
    }
   ],
   "source": [
    "file_name='data/cki'\n",
    "\n",
    "SPS=SingleParticleState(file_name=file_name)\n",
    "# single particle energies\n",
    "print('single particle energies=',SPS.energies,'\\n')\n",
    "print('mapping between nucleon modes a and the quantum numbers',SPS.state_encoding)\n",
    "\n",
    "nucleon_modes_per_isospin=SPS.energies.shape[0]//2 # we are counting per species. I know, we need a .num_modes attribute\n",
    "\n",
    "num_neutrons=4\n",
    "num_protons=4"
   ]
  },
  {
   "cell_type": "markdown",
   "id": "36053f57",
   "metadata": {},
   "source": [
    "Now, we can initialize the NSM Hamiltonian and look at the many-body basis. It is a tensor with the first index as the many-body basis index and second index the corresponding nucleon modes in the tensor product basis state"
   ]
  },
  {
   "cell_type": "code",
   "execution_count": 23,
   "id": "795e69bc",
   "metadata": {},
   "outputs": [
    {
     "name": "stdout",
     "output_type": "stream",
     "text": [
      "[[1 1 1 ... 0 0 1]\n",
      " [1 1 1 ... 0 0 0]\n",
      " [1 1 1 ... 0 0 1]\n",
      " ...\n",
      " [0 0 0 ... 0 1 1]\n",
      " [0 0 0 ... 1 0 1]\n",
      " [0 0 0 ... 1 1 1]]\n"
     ]
    }
   ],
   "source": [
    "NSMHamiltonian=FermiHubbardHamiltonian(size_a=nucleon_modes_per_isospin,size_b=nucleon_modes_per_isospin,nparticles_a=num_neutrons,nparticles_b=num_protons,symmetries=[SPS.total_M_zero]) # the symmetry that we need is the M=0 condition, if we do not add anything we get the full many-body basis\n",
    "\n",
    "print(NSMHamiltonian.basis)\n"
   ]
  },
  {
   "cell_type": "markdown",
   "id": "2345b4b5",
   "metadata": {},
   "source": [
    "Now we initialize the NSM Hamiltonian, starting from the external potential $\\sum_a e_a c^{+}_a c_a$"
   ]
  },
  {
   "cell_type": "code",
   "execution_count": 25,
   "id": "f81b831e",
   "metadata": {},
   "outputs": [],
   "source": [
    "NSMHamiltonian.get_external_potential_optimized(external_potential=SPS.energies)"
   ]
  },
  {
   "cell_type": "code",
   "execution_count": 24,
   "id": "d3430cc9",
   "metadata": {},
   "outputs": [
    {
     "name": "stdout",
     "output_type": "stream",
     "text": [
      "None\n"
     ]
    }
   ],
   "source": [
    "print(NSMHamiltonian.external_potential)"
   ]
  },
  {
   "cell_type": "code",
   "execution_count": 16,
   "id": "5edb5c84",
   "metadata": {},
   "outputs": [
    {
     "name": "stdout",
     "output_type": "stream",
     "text": [
      "Computing the matrix, pls wait... (u_u) \n",
      "\n"
     ]
    },
    {
     "name": "stderr",
     "output_type": "stream",
     "text": [
      "100%|██████████| 24/24 [00:46<00:00,  1.95s/it]\n"
     ]
    }
   ],
   "source": [
    "twobody_dict,_=get_twobody_nuclearshell_model(file_name=file_name)\n"
   ]
  },
  {
   "cell_type": "code",
   "execution_count": 26,
   "id": "5f55d559",
   "metadata": {},
   "outputs": [
    {
     "name": "stdout",
     "output_type": "stream",
     "text": [
      "Building two-body operator with 16496 terms...\n"
     ]
    },
    {
     "name": "stderr",
     "output_type": "stream",
     "text": [
      "100%|██████████| 16496/16496 [00:12<00:00, 1363.34it/s]\n"
     ]
    },
    {
     "name": "stdout",
     "output_type": "stream",
     "text": [
      "✅ Two-body operator built: shape=(28503, 28503), nnz=6030191\n"
     ]
    }
   ],
   "source": [
    "\n",
    "NSMHamiltonian.get_twobody_interaction_optimized(twobody_dict)\n",
    "\n"
   ]
  },
  {
   "cell_type": "markdown",
   "id": "e1ef608c",
   "metadata": {},
   "source": [
    "In order to use the hamiltonian, we need to compute the full Hamiltonian matrix, using get_hamiltonian()"
   ]
  },
  {
   "cell_type": "code",
   "execution_count": 27,
   "id": "cc6919b1",
   "metadata": {},
   "outputs": [],
   "source": [
    "NSMHamiltonian.get_hamiltonian()"
   ]
  },
  {
   "cell_type": "code",
   "execution_count": 28,
   "id": "aec689c9",
   "metadata": {},
   "outputs": [
    {
     "name": "stdout",
     "output_type": "stream",
     "text": [
      "<Compressed Sparse Row sparse matrix of dtype 'float64'\n",
      "\twith 6030191 stored elements and shape (28503, 28503)>\n",
      "  Coords\tValues\n",
      "  (0, 0)\t-35.723430178571405\n",
      "  (0, 1)\t0.10435216049167698\n",
      "  (0, 2)\t0.8598999999999996\n",
      "  (0, 3)\t0.3596601225771707\n",
      "  (0, 4)\t-0.19837717572588723\n",
      "  (0, 5)\t0.10165680416643712\n",
      "  (0, 6)\t-0.6918637014569978\n",
      "  (0, 7)\t0.0683045371787489\n",
      "  (0, 8)\t-0.2530987765796636\n",
      "  (0, 9)\t-0.4546230489830741\n",
      "  (0, 10)\t0.4237229179758751\n",
      "  (0, 11)\t-0.10165680416643709\n",
      "  (0, 13)\t-0.6918637014569978\n",
      "  (0, 15)\t-0.19515286510161337\n",
      "  (0, 16)\t-0.14860413794393482\n",
      "  (0, 17)\t-1.0872781580010684\n",
      "  (0, 18)\t0.23293633710277387\n",
      "  (0, 19)\t-0.6489247535071269\n",
      "  (0, 20)\t0.9007818899896537\n",
      "  (0, 21)\t0.09673599074161547\n",
      "  (0, 22)\t0.09673599074161547\n",
      "  (0, 23)\t-1.3995613925794361\n",
      "  (0, 24)\t-0.07222039837222677\n",
      "  (0, 25)\t0.1274540877860897\n",
      "  (0, 26)\t-1.5803666666666671\n",
      "  :\t:\n",
      "  (28502, 28467)\t0.1295371825641837\n",
      "  (28502, 28468)\t0.25907436512836757\n",
      "  (28502, 28469)\t-5.551115123125783e-17\n",
      "  (28502, 28474)\t1.7984746068253417\n",
      "  (28502, 28475)\t-0.7347060355029265\n",
      "  (28502, 28478)\t-0.6514225510373428\n",
      "  (28502, 28480)\t-0.7283125530979124\n",
      "  (28502, 28482)\t-0.18319324041386822\n",
      "  (28502, 28483)\t-0.15865\n",
      "  (28502, 28484)\t-0.15865\n",
      "  (28502, 28485)\t-1.942890293094024e-16\n",
      "  (28502, 28487)\t0.977133826556014\n",
      "  (28502, 28489)\t0.15864999999999999\n",
      "  (28502, 28490)\t0.15864999999999999\n",
      "  (28502, 28491)\t0.1831932404138682\n",
      "  (28502, 28492)\t2.220446049250313e-16\n",
      "  (28502, 28494)\t-0.2590743651283674\n",
      "  (28502, 28495)\t-0.1295371825641837\n",
      "  (28502, 28496)\t1.942890293094024e-16\n",
      "  (28502, 28497)\t0.2896539458273153\n",
      "  (28502, 28498)\t0.7177133829043454\n",
      "  (28502, 28499)\t-0.7177133829043454\n",
      "  (28502, 28500)\t2.220446049250313e-16\n",
      "  (28502, 28501)\t-1.5265566588595902e-16\n",
      "  (28502, 28502)\t-32.89519999999998\n"
     ]
    }
   ],
   "source": [
    "print(NSMHamiltonian.twobody_operator)"
   ]
  },
  {
   "cell_type": "code",
   "execution_count": 29,
   "id": "8d1c9648",
   "metadata": {},
   "outputs": [
    {
     "name": "stdout",
     "output_type": "stream",
     "text": [
      "<COOrdinate sparse matrix of dtype 'float64'\n",
      "\twith 3582 stored elements and shape (28503, 28503)>\n",
      "  Coords\tValues\n",
      "  (0, 0)\t-1.0\n",
      "  (1, 1)\t-1.0\n",
      "  (2, 2)\t-1.0\n",
      "  (3, 3)\t-1.0\n",
      "  (4, 4)\t-1.0\n",
      "  (5, 5)\t-1.0\n",
      "  (6, 6)\t-1.0\n",
      "  (7, 7)\t-1.0\n",
      "  (8, 8)\t-1.0\n",
      "  (11, 11)\t-1.0\n",
      "  (12, 12)\t-1.0\n",
      "  (13, 13)\t-1.0\n",
      "  (14, 14)\t-1.0\n",
      "  (15, 15)\t-1.0\n",
      "  (16, 16)\t-1.0\n",
      "  (17, 17)\t-1.0\n",
      "  (18, 18)\t-1.0\n",
      "  (20, 20)\t-1.0\n",
      "  (21, 21)\t-1.0\n",
      "  (22, 22)\t-1.0\n",
      "  (23, 23)\t-1.0\n",
      "  (24, 24)\t-1.0\n",
      "  (25, 25)\t-1.0\n",
      "  (26, 26)\t-1.0\n",
      "  (27, 27)\t-1.0\n",
      "  :\t:\n",
      "  (16578, 16578)\t-1.0\n",
      "  (16579, 16579)\t-1.0\n",
      "  (16580, 16580)\t-1.0\n",
      "  (16584, 16584)\t-1.0\n",
      "  (16585, 16585)\t-1.0\n",
      "  (16586, 16586)\t-1.0\n",
      "  (16588, 16588)\t-1.0\n",
      "  (16589, 16589)\t-1.0\n",
      "  (16592, 16592)\t-1.0\n",
      "  (16593, 16593)\t-1.0\n",
      "  (16596, 16596)\t-1.0\n",
      "  (16600, 16600)\t-1.0\n",
      "  (16601, 16601)\t-1.0\n",
      "  (16602, 16602)\t-1.0\n",
      "  (16603, 16603)\t-1.0\n",
      "  (16604, 16604)\t-1.0\n",
      "  (16610, 16610)\t-1.0\n",
      "  (16611, 16611)\t-1.0\n",
      "  (16616, 16616)\t-1.0\n",
      "  (16625, 16625)\t-1.0\n",
      "  (16626, 16626)\t-1.0\n",
      "  (16627, 16627)\t-1.0\n",
      "  (16641, 16641)\t-1.0\n",
      "  (16642, 16642)\t-1.0\n",
      "  (16659, 16659)\t-1.0\n"
     ]
    }
   ],
   "source": [
    "print(NSMHamiltonian.adag_adag_a_a_matrix_optimized(1,17,1,17))\n",
    "\n"
   ]
  },
  {
   "cell_type": "markdown",
   "id": "5f937f0c",
   "metadata": {},
   "source": [
    "At this point, getting the spectrum is easy as getting the empadronamiento in Barcelona (joke)"
   ]
  },
  {
   "cell_type": "code",
   "execution_count": 30,
   "id": "4b518509",
   "metadata": {},
   "outputs": [
    {
     "name": "stdout",
     "output_type": "stream",
     "text": [
      "energy ground state=-92.775 Mev \n",
      "\n"
     ]
    }
   ],
   "source": [
    "egs,psigs=NSMHamiltonian.get_spectrum(n_states=1) #we are only interested in the gs \n",
    "\n",
    "print(f'energy ground state={egs[0]:.5} Mev \\n')\n"
   ]
  },
  {
   "cell_type": "markdown",
   "id": "e2c07062",
   "metadata": {},
   "source": [
    "We can also play with other attributes that the Hamiltonian can provide, such as 2-body operators $T_{ab}^{cd}=c^{+}_a c^{+}_{b} c_c c_d$"
   ]
  },
  {
   "cell_type": "code",
   "execution_count": 20,
   "id": "322c3353",
   "metadata": {},
   "outputs": [
    {
     "name": "stdout",
     "output_type": "stream",
     "text": [
      "expectation value= 0.19708205121236266\n"
     ]
    }
   ],
   "source": [
    "t_0312=NSMHamiltonian.adag_adag_a_a_matrix(0,3,1,2) # it's a matrix in the many-body basis\n",
    "\n",
    "# we compute the expectation value using Scipy <psi| T_01^23 |psi>\n",
    "expectation_value=psigs[:,0].conjugate().dot(t_0312.dot(psigs[:,0])) # the 0 index is because  psigs \\in [dim(Hilbert space),n_states]\n",
    "print('expectation value=',expectation_value)"
   ]
  },
  {
   "cell_type": "markdown",
   "id": "1348a6d1",
   "metadata": {},
   "source": [
    "To call the Hamiltonian we simply use"
   ]
  },
  {
   "cell_type": "code",
   "execution_count": null,
   "id": "86821302",
   "metadata": {},
   "outputs": [],
   "source": [
    "print(NSMHamiltonian.hamiltonian)"
   ]
  }
 ],
 "metadata": {
  "kernelspec": {
   "display_name": "quantum_annealing_nsm",
   "language": "python",
   "name": "python3"
  },
  "language_info": {
   "codemirror_mode": {
    "name": "ipython",
    "version": 3
   },
   "file_extension": ".py",
   "mimetype": "text/x-python",
   "name": "python",
   "nbconvert_exporter": "python",
   "pygments_lexer": "ipython3",
   "version": "3.10.18"
  }
 },
 "nbformat": 4,
 "nbformat_minor": 5
}

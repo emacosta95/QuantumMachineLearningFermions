{
 "cells": [
  {
   "cell_type": "markdown",
   "id": "845bde0a",
   "metadata": {},
   "source": [
    "# How to deal with a Nuclear Shell Model (NSM) Hamiltonian -a funny guide to madness-"
   ]
  },
  {
   "cell_type": "markdown",
   "id": "e6d9003d",
   "metadata": {},
   "source": [
    "NSM Hamiltonians are many-body Hamiltonians represented in a single particle framework (or nucleon modes) described by Valence orbitals (with the famous set of quantum numbers that describe the 3D harmonic oscillator $|n,l,j,m,t,t_z\\rangle$. The last two quantum numbers describe the isospin of the nucleons (proton or neutron).\n",
    "\n",
    "First of all, we need to commit: we need to decide which Valence shell we are going to use. This choice translates in selecting the proper \"nuclear_interaction.txt\" file related to the correspoding valence shell.\n",
    "\n",
    "- p shell --> 'data/cki' file \n",
    "- sd shell --> 'data/usdb.nat' file \n",
    "- pf shell --> 'data/gxpf1a' file \n",
    "\n",
    "Don't worry about these names, for you these simply are file text with matrix entries that are going to be the parameters of your NSM Hamiltonian:\n",
    "$$\n",
    "H=\\sum_a c^{+}_a c_a + \\frac{1}{4}\\sum_{abcd} v_{abdc} c^{+}_a c^{+}_b c_c c_d.\n",
    "$$\n",
    "\n",
    "Ok, too much verbose, let's start with the Imports"
   ]
  },
  {
   "cell_type": "code",
   "execution_count": 1,
   "id": "797368f4",
   "metadata": {},
   "outputs": [
    {
     "name": "stderr",
     "output_type": "stream",
     "text": [
      "/home/ecosta/miniconda3/envs/quantum_annealing_nsm/lib/python3.10/site-packages/tqdm_joblib/__init__.py:4: TqdmWarning: IProgress not found. Please update jupyter and ipywidgets. See https://ipywidgets.readthedocs.io/en/stable/user_install.html\n",
      "  from tqdm.autonotebook import tqdm\n"
     ]
    }
   ],
   "source": [
    "from src.NSMFermions.hamiltonian_utils import FermiHubbardHamiltonian # the many-body Hamiltonian class\n",
    "from src.NSMFermions.nuclear_physics_utils import SingleParticleState,J2operator,get_twobody_nuclearshell_model # routines and class useful for the nuclear part\n",
    "import scipy # just scipy, easy, no?\n",
    "import numpy as np \n",
    "import matplotlib.pyplot as plt # to plot things"
   ]
  },
  {
   "cell_type": "markdown",
   "id": "e82d759f",
   "metadata": {},
   "source": [
    "We initialize the Single Particle State class with the corresponding file text. We also initialize the number of proton neutron and the corresponding number of modes for each nucleon"
   ]
  },
  {
   "cell_type": "code",
   "execution_count": 2,
   "id": "9beebfaf",
   "metadata": {},
   "outputs": [
    {
     "name": "stdout",
     "output_type": "stream",
     "text": [
      "single particle energies= [-3.9257 -3.9257 -3.9257 -3.9257 -3.9257 -3.9257 -3.2079 -3.2079  2.1117\n",
      "  2.1117  2.1117  2.1117 -3.9257 -3.9257 -3.9257 -3.9257 -3.9257 -3.9257\n",
      " -3.2079 -3.2079  2.1117  2.1117  2.1117  2.1117] \n",
      "\n",
      "mapping between nucleon modes a and the quantum numbers [(0, 2, 2.5, np.float64(-2.5), 0.5, 0.5), (0, 2, 2.5, np.float64(-1.5), 0.5, 0.5), (0, 2, 2.5, np.float64(-0.5), 0.5, 0.5), (0, 2, 2.5, np.float64(0.5), 0.5, 0.5), (0, 2, 2.5, np.float64(1.5), 0.5, 0.5), (0, 2, 2.5, np.float64(2.5), 0.5, 0.5), (1, 0, 0.5, np.float64(-0.5), 0.5, 0.5), (1, 0, 0.5, np.float64(0.5), 0.5, 0.5), (0, 2, 1.5, np.float64(-1.5), 0.5, 0.5), (0, 2, 1.5, np.float64(-0.5), 0.5, 0.5), (0, 2, 1.5, np.float64(0.5), 0.5, 0.5), (0, 2, 1.5, np.float64(1.5), 0.5, 0.5), (0, 2, 2.5, np.float64(-2.5), 0.5, -0.5), (0, 2, 2.5, np.float64(-1.5), 0.5, -0.5), (0, 2, 2.5, np.float64(-0.5), 0.5, -0.5), (0, 2, 2.5, np.float64(0.5), 0.5, -0.5), (0, 2, 2.5, np.float64(1.5), 0.5, -0.5), (0, 2, 2.5, np.float64(2.5), 0.5, -0.5), (1, 0, 0.5, np.float64(-0.5), 0.5, -0.5), (1, 0, 0.5, np.float64(0.5), 0.5, -0.5), (0, 2, 1.5, np.float64(-1.5), 0.5, -0.5), (0, 2, 1.5, np.float64(-0.5), 0.5, -0.5), (0, 2, 1.5, np.float64(0.5), 0.5, -0.5), (0, 2, 1.5, np.float64(1.5), 0.5, -0.5)]\n"
     ]
    }
   ],
   "source": [
    "file_name='data/usdb.nat'\n",
    "\n",
    "SPS=SingleParticleState(file_name=file_name)\n",
    "# single particle energies\n",
    "print('single particle energies=',SPS.energies,'\\n')\n",
    "print('mapping between nucleon modes a and the quantum numbers',SPS.state_encoding)\n",
    "\n",
    "nucleon_modes_per_isospin=SPS.energies.shape[0]//2 # we are counting per species. I know, we need a .num_modes attribute\n",
    "\n",
    "num_neutrons=2\n",
    "num_protons=2"
   ]
  },
  {
   "cell_type": "markdown",
   "id": "36053f57",
   "metadata": {},
   "source": [
    "Now, we can initialize the NSM Hamiltonian and look at the many-body basis. It is a tensor with the first index as the many-body basis index and second index the corresponding nucleon modes in the tensor product basis state"
   ]
  },
  {
   "cell_type": "code",
   "execution_count": 3,
   "id": "795e69bc",
   "metadata": {},
   "outputs": [
    {
     "name": "stdout",
     "output_type": "stream",
     "text": [
      "[[1 1 0 ... 0 0 0]\n",
      " [1 1 0 ... 0 0 1]\n",
      " [1 0 1 ... 0 0 0]\n",
      " ...\n",
      " [0 0 0 ... 0 0 0]\n",
      " [0 0 0 ... 0 0 0]\n",
      " [0 0 0 ... 1 0 0]]\n"
     ]
    },
    {
     "name": "stderr",
     "output_type": "stream",
     "text": [
      "/home/ecosta/miniconda3/envs/quantum_annealing_nsm/lib/python3.10/site-packages/numba/typed/typeddict.py:39: NumbaTypeSafetyWarning: \u001b[1m\u001b[1m\u001b[1munsafe cast from int64 to uint64. Precision may be lost.\u001b[0m\u001b[0m\u001b[0m\n",
      "  return d[key]\n"
     ]
    }
   ],
   "source": [
    "NSMHamiltonian=FermiHubbardHamiltonian(size_a=nucleon_modes_per_isospin,size_b=nucleon_modes_per_isospin,nparticles_a=num_neutrons,nparticles_b=num_protons,symmetries=[SPS.total_M_zero]) # the symmetry that we need is the M=0 condition, if we do not add anything we get the full many-body basis\n",
    "\n",
    "print(NSMHamiltonian.basis)\n"
   ]
  },
  {
   "cell_type": "markdown",
   "id": "2345b4b5",
   "metadata": {},
   "source": [
    "Now we initialize the NSM Hamiltonian, starting from the external potential $\\sum_a e_a c^{+}_a c_a$"
   ]
  },
  {
   "cell_type": "code",
   "execution_count": 4,
   "id": "f81b831e",
   "metadata": {},
   "outputs": [],
   "source": [
    "NSMHamiltonian.get_external_potential(external_potential=SPS.energies)"
   ]
  },
  {
   "cell_type": "markdown",
   "id": "bb6c30f1",
   "metadata": {},
   "source": [
    "Then we go to the two-body term, loading the matrix dict"
   ]
  },
  {
   "cell_type": "code",
   "execution_count": 5,
   "id": "971887dc",
   "metadata": {},
   "outputs": [
    {
     "name": "stdout",
     "output_type": "stream",
     "text": [
      "(1, 0, 0.5, np.float64(0.5), 0.5, -0.5) (0, 2, 2.5, np.float64(-0.5), 0.5, 0.5) (0, 2, 2.5, np.float64(-1.5), 0.5, 0.5) (0, 2, 2.5, np.float64(1.5), 0.5, -0.5)\n"
     ]
    }
   ],
   "source": [
    "print(SPS.state_encoding[19],SPS.state_encoding[2],SPS.state_encoding[1],SPS.state_encoding[16])\n",
    "\n"
   ]
  },
  {
   "cell_type": "code",
   "execution_count": null,
   "id": "5edb5c84",
   "metadata": {},
   "outputs": [
    {
     "name": "stdout",
     "output_type": "stream",
     "text": [
      "Computing the matrix, pls wait... (u_u) \n",
      "\n"
     ]
    },
    {
     "name": "stderr",
     "output_type": "stream",
     "text": [
      "100%|██████████| 24/24 [00:47<00:00,  1.98s/it]"
     ]
    },
    {
     "name": "stdout",
     "output_type": "stream",
     "text": [
      "Starting 16496 two-body terms...\n"
     ]
    },
    {
     "name": "stderr",
     "output_type": "stream",
     "text": [
      "\n"
     ]
    },
    {
     "name": "stdout",
     "output_type": "stream",
     "text": [
      "Two-body terms: 100%|██████████| 16496/16496 [00:02<00:00, 7455.91it/s]\n",
      "Two-body interaction matrix completed.\n"
     ]
    }
   ],
   "source": [
    "twobody_dict,_=get_twobody_nuclearshell_model(file_name=file_name)\n"
   ]
  },
  {
   "cell_type": "code",
   "execution_count": null,
   "id": "5f55d559",
   "metadata": {},
   "outputs": [
    {
     "name": "stderr",
     "output_type": "stream",
     "text": [
      "16496it [01:22, 199.16it/s]\n"
     ]
    }
   ],
   "source": [
    "\n",
    "NSMHamiltonian.get_twobody_interaction_optimized(twobody_dict)\n",
    "\n"
   ]
  },
  {
   "cell_type": "markdown",
   "id": "e1ef608c",
   "metadata": {},
   "source": [
    "In order to use the hamiltonian, we need to compute the full Hamiltonian matrix, using get_hamiltonian()"
   ]
  },
  {
   "cell_type": "code",
   "execution_count": 7,
   "id": "cc6919b1",
   "metadata": {},
   "outputs": [],
   "source": [
    "NSMHamiltonian.get_hamiltonian()"
   ]
  },
  {
   "cell_type": "code",
   "execution_count": 11,
   "id": "aec689c9",
   "metadata": {},
   "outputs": [
    {
     "name": "stdout",
     "output_type": "stream",
     "text": [
      "<Compressed Sparse Row sparse matrix of dtype 'float64'\n",
      "\twith 54110 stored elements and shape (640, 640)>\n",
      "  Coords\tValues\n",
      "  (0, 0)\t-5.934974603174604\n",
      "  (0, 1)\t2.1441927358413584\n",
      "  (0, 2)\t-0.10915079365079428\n",
      "  (0, 3)\t-0.6398020847719197\n",
      "  (0, 4)\t0.3682345247093515\n",
      "  (0, 5)\t0.5211067201086399\n",
      "  (0, 6)\t-0.9690507936507938\n",
      "  (0, 7)\t0.22802569399122857\n",
      "  (0, 9)\t-0.632878191158204\n",
      "  (0, 10)\t0.45225308401658526\n",
      "  (0, 11)\t0.2665777205429144\n",
      "  (0, 12)\t-1.2129704215656378\n",
      "  (0, 15)\t-0.5542253968253976\n",
      "  (0, 16)\t0.43082268503532073\n",
      "  (0, 20)\t0.03468810059641142\n",
      "  (0, 21)\t0.2890940607855491\n",
      "  (0, 22)\t-0.2239312965819814\n",
      "  (0, 26)\t-0.45876507936507965\n",
      "  (0, 27)\t0.4680380952380956\n",
      "  (0, 34)\t1.096283198521862\n",
      "  (0, 40)\t-0.3682345247093515\n",
      "  (0, 41)\t0.19362401723902906\n",
      "  (0, 42)\t-0.5858860751129027\n",
      "  (0, 43)\t-0.04349146264472342\n",
      "  (0, 44)\t-0.2665777205429144\n",
      "  :\t:\n",
      "  (639, 591)\t-0.39534000000000014\n",
      "  (639, 599)\t0.46263760950344823\n",
      "  (639, 600)\t-0.4744024744405058\n",
      "  (639, 603)\t0.37221387999358563\n",
      "  (639, 604)\t-0.64662\n",
      "  (639, 605)\t1.0419599999999998\n",
      "  (639, 613)\t-0.003633314222904818\n",
      "  (639, 614)\t0.28701475557665374\n",
      "  (639, 617)\t-0.3722138799935857\n",
      "  (639, 618)\t1.04196\n",
      "  (639, 619)\t-0.6466199999999999\n",
      "  (639, 626)\t-0.10770954742210674\n",
      "  (639, 627)\t-0.2724458866852052\n",
      "  (639, 628)\t-0.013171599755556457\n",
      "  (639, 629)\t0.00760462666452856\n",
      "  (639, 630)\t-0.9184600000000009\n",
      "  (639, 631)\t-0.7283125530979132\n",
      "  (639, 632)\t-0.2896539458273154\n",
      "  (639, 633)\t0.3472409894610724\n",
      "  (639, 634)\t0.977133826556014\n",
      "  (639, 635)\t0.1295371825641837\n",
      "  (639, 636)\t-0.568096333872432\n",
      "  (639, 637)\t0.7350834961886532\n",
      "  (639, 638)\t0.3646092533290572\n",
      "  (639, 639)\t-5.78392\n"
     ]
    }
   ],
   "source": [
    "print(NSMHamiltonian.twobody_operator)"
   ]
  },
  {
   "cell_type": "markdown",
   "id": "5f937f0c",
   "metadata": {},
   "source": [
    "At this point, getting the spectrum is easy as getting the empadronamiento in Barcelona (joke)"
   ]
  },
  {
   "cell_type": "code",
   "execution_count": 8,
   "id": "4b518509",
   "metadata": {},
   "outputs": [
    {
     "name": "stdout",
     "output_type": "stream",
     "text": [
      "energy ground state=-15.703 Mev \n",
      "\n"
     ]
    }
   ],
   "source": [
    "egs,psigs=NSMHamiltonian.get_spectrum(n_states=1) #we are only interested in the gs \n",
    "\n",
    "print(f'energy ground state={egs[0]:.5} Mev \\n')\n"
   ]
  },
  {
   "cell_type": "markdown",
   "id": "e2c07062",
   "metadata": {},
   "source": [
    "We can also play with other attributes that the Hamiltonian can provide, such as 2-body operators $T_{ab}^{cd}=c^{+}_a c^{+}_{b} c_c c_d$"
   ]
  },
  {
   "cell_type": "code",
   "execution_count": 20,
   "id": "322c3353",
   "metadata": {},
   "outputs": [
    {
     "name": "stdout",
     "output_type": "stream",
     "text": [
      "expectation value= 0.19708205121236266\n"
     ]
    }
   ],
   "source": [
    "t_0312=NSMHamiltonian.adag_adag_a_a_matrix(0,3,1,2) # it's a matrix in the many-body basis\n",
    "\n",
    "# we compute the expectation value using Scipy <psi| T_01^23 |psi>\n",
    "expectation_value=psigs[:,0].conjugate().dot(t_0312.dot(psigs[:,0])) # the 0 index is because  psigs \\in [dim(Hilbert space),n_states]\n",
    "print('expectation value=',expectation_value)"
   ]
  },
  {
   "cell_type": "markdown",
   "id": "1348a6d1",
   "metadata": {},
   "source": [
    "To call the Hamiltonian we simply use"
   ]
  },
  {
   "cell_type": "code",
   "execution_count": null,
   "id": "86821302",
   "metadata": {},
   "outputs": [],
   "source": [
    "print(NSMHamiltonian.hamiltonian)"
   ]
  }
 ],
 "metadata": {
  "kernelspec": {
   "display_name": "quantum_annealing_nsm",
   "language": "python",
   "name": "python3"
  },
  "language_info": {
   "codemirror_mode": {
    "name": "ipython",
    "version": 3
   },
   "file_extension": ".py",
   "mimetype": "text/x-python",
   "name": "python",
   "nbconvert_exporter": "python",
   "pygments_lexer": "ipython3",
   "version": "3.10.18"
  }
 },
 "nbformat": 4,
 "nbformat_minor": 5
}

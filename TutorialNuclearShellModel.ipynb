{
 "cells": [
  {
   "cell_type": "markdown",
   "id": "845bde0a",
   "metadata": {},
   "source": [
    "# How to deal with a Nuclear Shell Model (NSM) Hamiltonian -a funny guide to madness-"
   ]
  },
  {
   "cell_type": "markdown",
   "id": "e6d9003d",
   "metadata": {},
   "source": [
    "NSM Hamiltonians are many-body Hamiltonians represented in a single particle framework (or nucleon modes) described by Valence orbitals (with the famous set of quantum numbers that describe the 3D harmonic oscillator $|n,l,j,m,t,t_z\\rangle$. The last two quantum numbers describe the isospin of the nucleons (proton or neutron).\n",
    "\n",
    "First of all, we need to commit: we need to decide which Valence shell we are going to use. This choice translates in selecting the proper \"nuclear_interaction.txt\" file related to the correspoding valence shell.\n",
    "\n",
    "- p shell --> 'data/cki' file \n",
    "- sd shell --> 'data/usdb.nat' file \n",
    "- pf shell --> 'data/gxpf1a' file \n",
    "\n",
    "Don't worry about these names, for you these simply are file text with matrix entries that are going to be the parameters of your NSM Hamiltonian:\n",
    "$$\n",
    "H=\\sum_a c^{+}_a c_a + \\frac{1}{4}\\sum_{abcd} v_{abdc} c^{+}_a c^{+}_b c_c c_d.\n",
    "$$\n",
    "\n",
    "Ok, too much verbose, let's start with the Imports"
   ]
  },
  {
   "cell_type": "code",
   "execution_count": 1,
   "id": "797368f4",
   "metadata": {},
   "outputs": [
    {
     "name": "stderr",
     "output_type": "stream",
     "text": [
      "/home/ecosta/miniconda3/envs/quantum_annealing_nsm/lib/python3.10/site-packages/tqdm_joblib/__init__.py:4: TqdmWarning: IProgress not found. Please update jupyter and ipywidgets. See https://ipywidgets.readthedocs.io/en/stable/user_install.html\n",
      "  from tqdm.autonotebook import tqdm\n"
     ]
    }
   ],
   "source": [
    "from src.NSMFermions.hamiltonian_utils import FermiHubbardHamiltonian,FermiHubbardHamiltonianOptimized # the many-body Hamiltonian class\n",
    "from src.NSMFermions.nuclear_physics_utils import SingleParticleState,J2operator,get_twobody_nuclearshell_model # routines and class useful for the nuclear part\n",
    "import scipy # just scipy, easy, no?\n",
    "import numpy as np \n",
    "import matplotlib.pyplot as plt # to plot things"
   ]
  },
  {
   "cell_type": "markdown",
   "id": "e82d759f",
   "metadata": {},
   "source": [
    "We initialize the Single Particle State class with the corresponding file text. We also initialize the number of proton neutron and the corresponding number of modes for each nucleon"
   ]
  },
  {
   "cell_type": "code",
   "execution_count": 2,
   "id": "9beebfaf",
   "metadata": {},
   "outputs": [
    {
     "name": "stdout",
     "output_type": "stream",
     "text": [
      "single particle energies= [1.63 1.63 1.63 1.63 2.27 2.27 1.63 1.63 1.63 1.63 2.27 2.27] \n",
      "\n",
      "mapping between nucleon modes a and the quantum numbers [(0, 1, 1.5, np.float64(-1.5), 0.5, 0.5), (0, 1, 1.5, np.float64(-0.5), 0.5, 0.5), (0, 1, 1.5, np.float64(0.5), 0.5, 0.5), (0, 1, 1.5, np.float64(1.5), 0.5, 0.5), (0, 1, 0.5, np.float64(-0.5), 0.5, 0.5), (0, 1, 0.5, np.float64(0.5), 0.5, 0.5), (0, 1, 1.5, np.float64(-1.5), 0.5, -0.5), (0, 1, 1.5, np.float64(-0.5), 0.5, -0.5), (0, 1, 1.5, np.float64(0.5), 0.5, -0.5), (0, 1, 1.5, np.float64(1.5), 0.5, -0.5), (0, 1, 0.5, np.float64(-0.5), 0.5, -0.5), (0, 1, 0.5, np.float64(0.5), 0.5, -0.5)]\n"
     ]
    }
   ],
   "source": [
    "file_name='data/cki'\n",
    "\n",
    "SPS=SingleParticleState(file_name=file_name)\n",
    "# single particle energies\n",
    "print('single particle energies=',SPS.energies,'\\n')\n",
    "print('mapping between nucleon modes a and the quantum numbers',SPS.state_encoding)\n",
    "\n",
    "nucleon_modes_per_isospin=SPS.energies.shape[0]//2 # we are counting per species. I know, we need a .num_modes attribute\n",
    "\n",
    "num_neutrons=2\n",
    "num_protons=2"
   ]
  },
  {
   "cell_type": "markdown",
   "id": "36053f57",
   "metadata": {},
   "source": [
    "Now, we can initialize the NSM Hamiltonian and look at the many-body basis. It is a tensor with the first index as the many-body basis index and second index the corresponding nucleon modes in the tensor product basis state"
   ]
  },
  {
   "cell_type": "code",
   "execution_count": 3,
   "id": "795e69bc",
   "metadata": {},
   "outputs": [
    {
     "ename": "TypingError",
     "evalue": "Failed in nopython mode pipeline (step: nopython frontend)\n\u001b[1m\u001b[1m\u001b[1m\u001b[1mFailed in nopython mode pipeline (step: nopython frontend)\n\u001b[1m\u001b[1mUntyped global name 'comb':\u001b[0m \u001b[1m\u001b[1mCannot determine Numba type of <class 'builtin_function_or_method'>\u001b[0m\n\u001b[1m\nFile \"src/NSMFermions/numba_utils.py\", line 12:\u001b[0m\n\u001b[1mdef generate_combinations(n, k):\n\u001b[1m    n_comb = comb(n, k)  # now OK\n\u001b[0m    \u001b[1m^\u001b[0m\u001b[0m\n\u001b[0m\n\u001b[0m\u001b[1mDuring: Pass nopython_type_inference\u001b[0m\n\u001b[0m\u001b[1mDuring: resolving callee type: type(CPUDispatcher(<function generate_combinations at 0x7fc829beb5b0>))\u001b[0m\n\u001b[0m\u001b[1mDuring: typing of call at /home/ecosta/QuantumMachineLearningFermions/src/NSMFermions/numba_utils.py (40)\u001b[0m\n\u001b[0m\u001b[1mDuring: typing of call at /home/ecosta/QuantumMachineLearningFermions/src/NSMFermions/numba_utils.py (41)\u001b[0m\n\u001b[1m\nFile \"src/NSMFermions/numba_utils.py\", line 40:\u001b[0m\n\u001b[1mdef generate_bit_basis_numba(nsites_a, nparticles_a, nsites_b, nparticles_b):\n\u001b[1m    combos_a = generate_combinations(nsites_a, nparticles_a)\n\u001b[0m    \u001b[1m^\u001b[0m\u001b[0m\n\n\u001b[0m\u001b[1mDuring: Pass nopython_type_inference\u001b[0m",
     "output_type": "error",
     "traceback": [
      "\u001b[0;31m---------------------------------------------------------------------------\u001b[0m",
      "\u001b[0;31mTypingError\u001b[0m                               Traceback (most recent call last)",
      "Cell \u001b[0;32mIn[3], line 1\u001b[0m\n\u001b[0;32m----> 1\u001b[0m NSMHamiltonian\u001b[38;5;241m=\u001b[39m\u001b[43mFermiHubbardHamiltonianOptimized\u001b[49m\u001b[43m(\u001b[49m\u001b[43msize_a\u001b[49m\u001b[38;5;241;43m=\u001b[39;49m\u001b[43mnucleon_modes_per_isospin\u001b[49m\u001b[43m,\u001b[49m\u001b[43msize_b\u001b[49m\u001b[38;5;241;43m=\u001b[39;49m\u001b[43mnucleon_modes_per_isospin\u001b[49m\u001b[43m,\u001b[49m\u001b[43mnparticles_a\u001b[49m\u001b[38;5;241;43m=\u001b[39;49m\u001b[43mnum_neutrons\u001b[49m\u001b[43m,\u001b[49m\u001b[43mnparticles_b\u001b[49m\u001b[38;5;241;43m=\u001b[39;49m\u001b[43mnum_protons\u001b[49m\u001b[43m,\u001b[49m\u001b[43msymmetries\u001b[49m\u001b[38;5;241;43m=\u001b[39;49m\u001b[43m[\u001b[49m\u001b[43mSPS\u001b[49m\u001b[38;5;241;43m.\u001b[39;49m\u001b[43mtotal_M_zero\u001b[49m\u001b[43m]\u001b[49m\u001b[43m)\u001b[49m \u001b[38;5;66;03m# the symmetry that we need is the M=0 condition, if we do not add anything we get the full many-body basis\u001b[39;00m\n\u001b[1;32m      3\u001b[0m \u001b[38;5;28mprint\u001b[39m(NSMHamiltonian\u001b[38;5;241m.\u001b[39mbasis)\n",
      "File \u001b[0;32m~/QuantumMachineLearningFermions/src/NSMFermions/hamiltonian_utils.py:212\u001b[0m, in \u001b[0;36mFermiHubbardHamiltonianOptimized.__init__\u001b[0;34m(self, size_a, size_b, nparticles_a, nparticles_b, symmetries)\u001b[0m\n\u001b[1;32m    207\u001b[0m \u001b[38;5;28;01mdef\u001b[39;00m\u001b[38;5;250m \u001b[39m\u001b[38;5;21m__init__\u001b[39m(\n\u001b[1;32m    208\u001b[0m     \u001b[38;5;28mself\u001b[39m, size_a: \u001b[38;5;28mint\u001b[39m, size_b: \u001b[38;5;28mint\u001b[39m, nparticles_a: \u001b[38;5;28mint\u001b[39m, nparticles_b: \u001b[38;5;28mint\u001b[39m,\n\u001b[1;32m    209\u001b[0m     symmetries: Optional[List[Callable]] \u001b[38;5;241m=\u001b[39m \u001b[38;5;28;01mNone\u001b[39;00m\n\u001b[1;32m    210\u001b[0m ):\n\u001b[1;32m    211\u001b[0m     \u001b[38;5;66;03m# Initialize bit-based basis from optimized class\u001b[39;00m\n\u001b[0;32m--> 212\u001b[0m     \u001b[38;5;28;43msuper\u001b[39;49m\u001b[43m(\u001b[49m\u001b[43m)\u001b[49m\u001b[38;5;241;43m.\u001b[39;49m\u001b[38;5;21;43m__init__\u001b[39;49m\u001b[43m(\u001b[49m\u001b[43msize_a\u001b[49m\u001b[43m,\u001b[49m\u001b[43m \u001b[49m\u001b[43mnparticles_a\u001b[49m\u001b[43m,\u001b[49m\u001b[43m \u001b[49m\u001b[43msize_b\u001b[49m\u001b[43m,\u001b[49m\u001b[43m \u001b[49m\u001b[43mnparticles_b\u001b[49m\u001b[43m)\u001b[49m\n\u001b[1;32m    214\u001b[0m     \u001b[38;5;66;03m# Apply symmetries if provided\u001b[39;00m\n\u001b[1;32m    215\u001b[0m     \u001b[38;5;28;01mif\u001b[39;00m symmetries \u001b[38;5;129;01mis\u001b[39;00m \u001b[38;5;129;01mnot\u001b[39;00m \u001b[38;5;28;01mNone\u001b[39;00m:\n",
      "File \u001b[0;32m~/QuantumMachineLearningFermions/src/NSMFermions/fermi_hubbard_library.py:793\u001b[0m, in \u001b[0;36mFermionicBasisOptimized.__init__\u001b[0;34m(self, nsites_a, nparticles_a, nsites_b, nparticles_b)\u001b[0m\n\u001b[1;32m    790\u001b[0m \u001b[38;5;28mself\u001b[39m\u001b[38;5;241m.\u001b[39mnparticles_b \u001b[38;5;241m=\u001b[39m nparticles_b\n\u001b[1;32m    792\u001b[0m \u001b[38;5;66;03m# Generate basis as bitstrings\u001b[39;00m\n\u001b[0;32m--> 793\u001b[0m \u001b[38;5;28mself\u001b[39m\u001b[38;5;241m.\u001b[39mbasis_bits \u001b[38;5;241m=\u001b[39m \u001b[43mgenerate_bit_basis_numba\u001b[49m\u001b[43m(\u001b[49m\n\u001b[1;32m    794\u001b[0m \u001b[43m    \u001b[49m\u001b[43mnsites_a\u001b[49m\u001b[43m,\u001b[49m\u001b[43m \u001b[49m\u001b[43mnparticles_a\u001b[49m\u001b[43m,\u001b[49m\u001b[43m \u001b[49m\u001b[43mnsites_b\u001b[49m\u001b[43m,\u001b[49m\u001b[43m \u001b[49m\u001b[43mnparticles_b\u001b[49m\n\u001b[1;32m    795\u001b[0m \u001b[43m\u001b[49m\u001b[43m)\u001b[49m\n\u001b[1;32m    797\u001b[0m \u001b[38;5;66;03m# Create bit → index dictionary\u001b[39;00m\n\u001b[1;32m    798\u001b[0m \u001b[38;5;28mself\u001b[39m\u001b[38;5;241m.\u001b[39mbit2index \u001b[38;5;241m=\u001b[39m \u001b[38;5;28mself\u001b[39m\u001b[38;5;241m.\u001b[39m_make_bit2index(\u001b[38;5;28mself\u001b[39m\u001b[38;5;241m.\u001b[39mbasis_bits)\n",
      "File \u001b[0;32m~/miniconda3/envs/quantum_annealing_nsm/lib/python3.10/site-packages/numba/core/dispatcher.py:424\u001b[0m, in \u001b[0;36m_DispatcherBase._compile_for_args\u001b[0;34m(self, *args, **kws)\u001b[0m\n\u001b[1;32m    420\u001b[0m         msg \u001b[38;5;241m=\u001b[39m (\u001b[38;5;124mf\u001b[39m\u001b[38;5;124m\"\u001b[39m\u001b[38;5;132;01m{\u001b[39;00m\u001b[38;5;28mstr\u001b[39m(e)\u001b[38;5;241m.\u001b[39mrstrip()\u001b[38;5;132;01m}\u001b[39;00m\u001b[38;5;124m \u001b[39m\u001b[38;5;130;01m\\n\u001b[39;00m\u001b[38;5;130;01m\\n\u001b[39;00m\u001b[38;5;124mThis error may have been caused \u001b[39m\u001b[38;5;124m\"\u001b[39m\n\u001b[1;32m    421\u001b[0m                \u001b[38;5;124mf\u001b[39m\u001b[38;5;124m\"\u001b[39m\u001b[38;5;124mby the following argument(s):\u001b[39m\u001b[38;5;130;01m\\n\u001b[39;00m\u001b[38;5;132;01m{\u001b[39;00margs_str\u001b[38;5;132;01m}\u001b[39;00m\u001b[38;5;130;01m\\n\u001b[39;00m\u001b[38;5;124m\"\u001b[39m)\n\u001b[1;32m    422\u001b[0m         e\u001b[38;5;241m.\u001b[39mpatch_message(msg)\n\u001b[0;32m--> 424\u001b[0m     \u001b[43merror_rewrite\u001b[49m\u001b[43m(\u001b[49m\u001b[43me\u001b[49m\u001b[43m,\u001b[49m\u001b[43m \u001b[49m\u001b[38;5;124;43m'\u001b[39;49m\u001b[38;5;124;43mtyping\u001b[39;49m\u001b[38;5;124;43m'\u001b[39;49m\u001b[43m)\u001b[49m\n\u001b[1;32m    425\u001b[0m \u001b[38;5;28;01mexcept\u001b[39;00m errors\u001b[38;5;241m.\u001b[39mUnsupportedError \u001b[38;5;28;01mas\u001b[39;00m e:\n\u001b[1;32m    426\u001b[0m     \u001b[38;5;66;03m# Something unsupported is present in the user code, add help info\u001b[39;00m\n\u001b[1;32m    427\u001b[0m     error_rewrite(e, \u001b[38;5;124m'\u001b[39m\u001b[38;5;124munsupported_error\u001b[39m\u001b[38;5;124m'\u001b[39m)\n",
      "File \u001b[0;32m~/miniconda3/envs/quantum_annealing_nsm/lib/python3.10/site-packages/numba/core/dispatcher.py:365\u001b[0m, in \u001b[0;36m_DispatcherBase._compile_for_args.<locals>.error_rewrite\u001b[0;34m(e, issue_type)\u001b[0m\n\u001b[1;32m    363\u001b[0m     \u001b[38;5;28;01mraise\u001b[39;00m e\n\u001b[1;32m    364\u001b[0m \u001b[38;5;28;01melse\u001b[39;00m:\n\u001b[0;32m--> 365\u001b[0m     \u001b[38;5;28;01mraise\u001b[39;00m e\u001b[38;5;241m.\u001b[39mwith_traceback(\u001b[38;5;28;01mNone\u001b[39;00m)\n",
      "\u001b[0;31mTypingError\u001b[0m: Failed in nopython mode pipeline (step: nopython frontend)\n\u001b[1m\u001b[1m\u001b[1m\u001b[1mFailed in nopython mode pipeline (step: nopython frontend)\n\u001b[1m\u001b[1mUntyped global name 'comb':\u001b[0m \u001b[1m\u001b[1mCannot determine Numba type of <class 'builtin_function_or_method'>\u001b[0m\n\u001b[1m\nFile \"src/NSMFermions/numba_utils.py\", line 12:\u001b[0m\n\u001b[1mdef generate_combinations(n, k):\n\u001b[1m    n_comb = comb(n, k)  # now OK\n\u001b[0m    \u001b[1m^\u001b[0m\u001b[0m\n\u001b[0m\n\u001b[0m\u001b[1mDuring: Pass nopython_type_inference\u001b[0m\n\u001b[0m\u001b[1mDuring: resolving callee type: type(CPUDispatcher(<function generate_combinations at 0x7fc829beb5b0>))\u001b[0m\n\u001b[0m\u001b[1mDuring: typing of call at /home/ecosta/QuantumMachineLearningFermions/src/NSMFermions/numba_utils.py (40)\u001b[0m\n\u001b[0m\u001b[1mDuring: typing of call at /home/ecosta/QuantumMachineLearningFermions/src/NSMFermions/numba_utils.py (41)\u001b[0m\n\u001b[1m\nFile \"src/NSMFermions/numba_utils.py\", line 40:\u001b[0m\n\u001b[1mdef generate_bit_basis_numba(nsites_a, nparticles_a, nsites_b, nparticles_b):\n\u001b[1m    combos_a = generate_combinations(nsites_a, nparticles_a)\n\u001b[0m    \u001b[1m^\u001b[0m\u001b[0m\n\n\u001b[0m\u001b[1mDuring: Pass nopython_type_inference\u001b[0m"
     ]
    }
   ],
   "source": [
    "NSMHamiltonian=FermiHubbardHamiltonianOptimized(size_a=nucleon_modes_per_isospin,size_b=nucleon_modes_per_isospin,nparticles_a=num_neutrons,nparticles_b=num_protons,symmetries=[SPS.total_M_zero]) # the symmetry that we need is the M=0 condition, if we do not add anything we get the full many-body basis\n",
    "\n",
    "print(NSMHamiltonian.basis)\n"
   ]
  },
  {
   "cell_type": "markdown",
   "id": "2345b4b5",
   "metadata": {},
   "source": [
    "Now we initialize the NSM Hamiltonian, starting from the external potential $\\sum_a e_a c^{+}_a c_a$"
   ]
  },
  {
   "cell_type": "code",
   "execution_count": 4,
   "id": "f81b831e",
   "metadata": {},
   "outputs": [
    {
     "ename": "TypingError",
     "evalue": "Failed in nopython mode pipeline (step: nopython frontend)\n\u001b[1m\u001b[1m\u001b[1mnon-precise type pyobject\u001b[0m\n\u001b[0m\u001b[1mDuring: typing of argument at /home/ecosta/QuantumMachineLearningFermions/src/NSMFermions/fermi_hubbard_library.py (717)\u001b[0m\n\u001b[1m\nFile \"src/NSMFermions/fermi_hubbard_library.py\", line 717:\u001b[0m\n\u001b[1m    def _adag_adag_a_a_loop_numba_with_dict(\n        <source elided>\n\n\u001b[1m    @njit\n\u001b[0m    \u001b[1m^\u001b[0m\u001b[0m\n\n\u001b[0m\u001b[1mDuring: Pass nopython_type_inference\u001b[0m \n\nThis error may have been caused by the following argument(s):\n- argument 0: \u001b[1mCannot determine Numba type of <class 'src.NSMFermions.hamiltonian_utils.FermiHubbardHamiltonian'>\u001b[0m\n",
     "output_type": "error",
     "traceback": [
      "\u001b[0;31m---------------------------------------------------------------------------\u001b[0m",
      "\u001b[0;31mTypingError\u001b[0m                               Traceback (most recent call last)",
      "Cell \u001b[0;32mIn[4], line 1\u001b[0m\n\u001b[0;32m----> 1\u001b[0m \u001b[43mNSMHamiltonian\u001b[49m\u001b[38;5;241;43m.\u001b[39;49m\u001b[43mget_external_potential_optimized\u001b[49m\u001b[43m(\u001b[49m\u001b[43mexternal_potential\u001b[49m\u001b[38;5;241;43m=\u001b[39;49m\u001b[43mSPS\u001b[49m\u001b[38;5;241;43m.\u001b[39;49m\u001b[43menergies\u001b[49m\u001b[43m)\u001b[49m\n",
      "File \u001b[0;32m~/QuantumMachineLearningFermions/src/NSMFermions/hamiltonian_utils.py:198\u001b[0m, in \u001b[0;36mFermiHubbardHamiltonian.get_external_potential_optimized\u001b[0;34m(self, external_potential)\u001b[0m\n\u001b[1;32m    195\u001b[0m operator \u001b[38;5;241m=\u001b[39m \u001b[38;5;241m0.0\u001b[39m\n\u001b[1;32m    196\u001b[0m \u001b[38;5;28;01mfor\u001b[39;00m i \u001b[38;5;129;01min\u001b[39;00m \u001b[38;5;28mrange\u001b[39m(external_potential\u001b[38;5;241m.\u001b[39mshape[\u001b[38;5;241m0\u001b[39m]):\n\u001b[0;32m--> 198\u001b[0m     operator \u001b[38;5;241m=\u001b[39m operator \u001b[38;5;241m+\u001b[39m external_potential[i] \u001b[38;5;241m*\u001b[39m \u001b[38;5;28;43mself\u001b[39;49m\u001b[38;5;241;43m.\u001b[39;49m\u001b[43madag_a_matrix_optimized\u001b[49m\u001b[43m(\u001b[49m\u001b[43mi\u001b[49m\u001b[38;5;241;43m=\u001b[39;49m\u001b[43mi\u001b[49m\u001b[43m,\u001b[49m\u001b[43m \u001b[49m\u001b[43mj\u001b[49m\u001b[38;5;241;43m=\u001b[39;49m\u001b[43mi\u001b[49m\u001b[43m)\u001b[49m\u001b[38;5;241m.\u001b[39mtocsr()\n\u001b[1;32m    200\u001b[0m \u001b[38;5;28mself\u001b[39m\u001b[38;5;241m.\u001b[39mexternal_potential \u001b[38;5;241m=\u001b[39m operator\n",
      "File \u001b[0;32m~/QuantumMachineLearningFermions/src/NSMFermions/fermi_hubbard_library.py:563\u001b[0m, in \u001b[0;36mFemionicBasis.adag_a_matrix_optimized\u001b[0;34m(self, i, j)\u001b[0m\n\u001b[1;32m    562\u001b[0m \u001b[38;5;28;01mdef\u001b[39;00m\u001b[38;5;250m \u001b[39m\u001b[38;5;21madag_a_matrix_optimized\u001b[39m(\u001b[38;5;28mself\u001b[39m, i, j):\n\u001b[0;32m--> 563\u001b[0m     rows, cols, data \u001b[38;5;241m=\u001b[39m \u001b[38;5;28;43mself\u001b[39;49m\u001b[38;5;241;43m.\u001b[39;49m\u001b[43m_adag_a_loop_numba\u001b[49m\u001b[43m(\u001b[49m\n\u001b[1;32m    564\u001b[0m \u001b[43m        \u001b[49m\u001b[38;5;28;43mself\u001b[39;49m\u001b[38;5;241;43m.\u001b[39;49m\u001b[43mbasis\u001b[49m\u001b[43m,\u001b[49m\u001b[43m        \u001b[49m\u001b[38;5;66;43;03m# basis array\u001b[39;49;00m\n\u001b[1;32m    565\u001b[0m \u001b[43m        \u001b[49m\u001b[43mi\u001b[49m\u001b[43m,\u001b[49m\u001b[43m \u001b[49m\u001b[43mj\u001b[49m\u001b[43m,\u001b[49m\n\u001b[1;32m    566\u001b[0m \u001b[43m        \u001b[49m\u001b[38;5;28;43mself\u001b[39;49m\u001b[38;5;241;43m.\u001b[39;49m\u001b[43mmasks\u001b[49m\u001b[43m,\u001b[49m\n\u001b[1;32m    567\u001b[0m \u001b[43m        \u001b[49m\u001b[38;5;28;43mself\u001b[39;49m\u001b[38;5;241;43m.\u001b[39;49m\u001b[43mmask2index\u001b[49m\n\u001b[1;32m    568\u001b[0m \u001b[43m    \u001b[49m\u001b[43m)\u001b[49m\n\u001b[1;32m    569\u001b[0m     \u001b[38;5;28;01mfrom\u001b[39;00m\u001b[38;5;250m \u001b[39m\u001b[38;5;21;01mscipy\u001b[39;00m\u001b[38;5;21;01m.\u001b[39;00m\u001b[38;5;21;01msparse\u001b[39;00m\u001b[38;5;250m \u001b[39m\u001b[38;5;28;01mimport\u001b[39;00m coo_matrix\n\u001b[1;32m    570\u001b[0m     \u001b[38;5;28;01mreturn\u001b[39;00m coo_matrix((data, (rows, cols)), shape\u001b[38;5;241m=\u001b[39m(\u001b[38;5;28mself\u001b[39m\u001b[38;5;241m.\u001b[39mbasis\u001b[38;5;241m.\u001b[39mshape[\u001b[38;5;241m0\u001b[39m], \u001b[38;5;28mself\u001b[39m\u001b[38;5;241m.\u001b[39mbasis\u001b[38;5;241m.\u001b[39mshape[\u001b[38;5;241m0\u001b[39m]))\n",
      "File \u001b[0;32m~/miniconda3/envs/quantum_annealing_nsm/lib/python3.10/site-packages/numba/core/dispatcher.py:424\u001b[0m, in \u001b[0;36m_DispatcherBase._compile_for_args\u001b[0;34m(self, *args, **kws)\u001b[0m\n\u001b[1;32m    420\u001b[0m         msg \u001b[38;5;241m=\u001b[39m (\u001b[38;5;124mf\u001b[39m\u001b[38;5;124m\"\u001b[39m\u001b[38;5;132;01m{\u001b[39;00m\u001b[38;5;28mstr\u001b[39m(e)\u001b[38;5;241m.\u001b[39mrstrip()\u001b[38;5;132;01m}\u001b[39;00m\u001b[38;5;124m \u001b[39m\u001b[38;5;130;01m\\n\u001b[39;00m\u001b[38;5;130;01m\\n\u001b[39;00m\u001b[38;5;124mThis error may have been caused \u001b[39m\u001b[38;5;124m\"\u001b[39m\n\u001b[1;32m    421\u001b[0m                \u001b[38;5;124mf\u001b[39m\u001b[38;5;124m\"\u001b[39m\u001b[38;5;124mby the following argument(s):\u001b[39m\u001b[38;5;130;01m\\n\u001b[39;00m\u001b[38;5;132;01m{\u001b[39;00margs_str\u001b[38;5;132;01m}\u001b[39;00m\u001b[38;5;130;01m\\n\u001b[39;00m\u001b[38;5;124m\"\u001b[39m)\n\u001b[1;32m    422\u001b[0m         e\u001b[38;5;241m.\u001b[39mpatch_message(msg)\n\u001b[0;32m--> 424\u001b[0m     \u001b[43merror_rewrite\u001b[49m\u001b[43m(\u001b[49m\u001b[43me\u001b[49m\u001b[43m,\u001b[49m\u001b[43m \u001b[49m\u001b[38;5;124;43m'\u001b[39;49m\u001b[38;5;124;43mtyping\u001b[39;49m\u001b[38;5;124;43m'\u001b[39;49m\u001b[43m)\u001b[49m\n\u001b[1;32m    425\u001b[0m \u001b[38;5;28;01mexcept\u001b[39;00m errors\u001b[38;5;241m.\u001b[39mUnsupportedError \u001b[38;5;28;01mas\u001b[39;00m e:\n\u001b[1;32m    426\u001b[0m     \u001b[38;5;66;03m# Something unsupported is present in the user code, add help info\u001b[39;00m\n\u001b[1;32m    427\u001b[0m     error_rewrite(e, \u001b[38;5;124m'\u001b[39m\u001b[38;5;124munsupported_error\u001b[39m\u001b[38;5;124m'\u001b[39m)\n",
      "File \u001b[0;32m~/miniconda3/envs/quantum_annealing_nsm/lib/python3.10/site-packages/numba/core/dispatcher.py:365\u001b[0m, in \u001b[0;36m_DispatcherBase._compile_for_args.<locals>.error_rewrite\u001b[0;34m(e, issue_type)\u001b[0m\n\u001b[1;32m    363\u001b[0m     \u001b[38;5;28;01mraise\u001b[39;00m e\n\u001b[1;32m    364\u001b[0m \u001b[38;5;28;01melse\u001b[39;00m:\n\u001b[0;32m--> 365\u001b[0m     \u001b[38;5;28;01mraise\u001b[39;00m e\u001b[38;5;241m.\u001b[39mwith_traceback(\u001b[38;5;28;01mNone\u001b[39;00m)\n",
      "\u001b[0;31mTypingError\u001b[0m: Failed in nopython mode pipeline (step: nopython frontend)\n\u001b[1m\u001b[1m\u001b[1mnon-precise type pyobject\u001b[0m\n\u001b[0m\u001b[1mDuring: typing of argument at /home/ecosta/QuantumMachineLearningFermions/src/NSMFermions/fermi_hubbard_library.py (717)\u001b[0m\n\u001b[1m\nFile \"src/NSMFermions/fermi_hubbard_library.py\", line 717:\u001b[0m\n\u001b[1m    def _adag_adag_a_a_loop_numba_with_dict(\n        <source elided>\n\n\u001b[1m    @njit\n\u001b[0m    \u001b[1m^\u001b[0m\u001b[0m\n\n\u001b[0m\u001b[1mDuring: Pass nopython_type_inference\u001b[0m \n\nThis error may have been caused by the following argument(s):\n- argument 0: \u001b[1mCannot determine Numba type of <class 'src.NSMFermions.hamiltonian_utils.FermiHubbardHamiltonian'>\u001b[0m\n"
     ]
    }
   ],
   "source": [
    "NSMHamiltonian.get_external_potential_optimized(external_potential=SPS.energies)"
   ]
  },
  {
   "cell_type": "code",
   "execution_count": 24,
   "id": "d3430cc9",
   "metadata": {},
   "outputs": [
    {
     "name": "stdout",
     "output_type": "stream",
     "text": [
      "None\n"
     ]
    }
   ],
   "source": [
    "print(NSMHamiltonian.external_potential)"
   ]
  },
  {
   "cell_type": "code",
   "execution_count": 16,
   "id": "5edb5c84",
   "metadata": {},
   "outputs": [
    {
     "name": "stdout",
     "output_type": "stream",
     "text": [
      "Computing the matrix, pls wait... (u_u) \n",
      "\n"
     ]
    },
    {
     "name": "stderr",
     "output_type": "stream",
     "text": [
      "100%|██████████| 24/24 [00:46<00:00,  1.95s/it]\n"
     ]
    }
   ],
   "source": [
    "twobody_dict,_=get_twobody_nuclearshell_model(file_name=file_name)\n"
   ]
  },
  {
   "cell_type": "code",
   "execution_count": 26,
   "id": "5f55d559",
   "metadata": {},
   "outputs": [
    {
     "name": "stdout",
     "output_type": "stream",
     "text": [
      "Building two-body operator with 16496 terms...\n"
     ]
    },
    {
     "name": "stderr",
     "output_type": "stream",
     "text": [
      "100%|██████████| 16496/16496 [00:12<00:00, 1363.34it/s]\n"
     ]
    },
    {
     "name": "stdout",
     "output_type": "stream",
     "text": [
      "✅ Two-body operator built: shape=(28503, 28503), nnz=6030191\n"
     ]
    }
   ],
   "source": [
    "\n",
    "NSMHamiltonian.get_twobody_interaction_optimized(twobody_dict)\n",
    "\n"
   ]
  },
  {
   "cell_type": "markdown",
   "id": "e1ef608c",
   "metadata": {},
   "source": [
    "In order to use the hamiltonian, we need to compute the full Hamiltonian matrix, using get_hamiltonian()"
   ]
  },
  {
   "cell_type": "code",
   "execution_count": 27,
   "id": "cc6919b1",
   "metadata": {},
   "outputs": [],
   "source": [
    "NSMHamiltonian.get_hamiltonian()"
   ]
  },
  {
   "cell_type": "code",
   "execution_count": 28,
   "id": "aec689c9",
   "metadata": {},
   "outputs": [
    {
     "name": "stdout",
     "output_type": "stream",
     "text": [
      "<Compressed Sparse Row sparse matrix of dtype 'float64'\n",
      "\twith 6030191 stored elements and shape (28503, 28503)>\n",
      "  Coords\tValues\n",
      "  (0, 0)\t-35.723430178571405\n",
      "  (0, 1)\t0.10435216049167698\n",
      "  (0, 2)\t0.8598999999999996\n",
      "  (0, 3)\t0.3596601225771707\n",
      "  (0, 4)\t-0.19837717572588723\n",
      "  (0, 5)\t0.10165680416643712\n",
      "  (0, 6)\t-0.6918637014569978\n",
      "  (0, 7)\t0.0683045371787489\n",
      "  (0, 8)\t-0.2530987765796636\n",
      "  (0, 9)\t-0.4546230489830741\n",
      "  (0, 10)\t0.4237229179758751\n",
      "  (0, 11)\t-0.10165680416643709\n",
      "  (0, 13)\t-0.6918637014569978\n",
      "  (0, 15)\t-0.19515286510161337\n",
      "  (0, 16)\t-0.14860413794393482\n",
      "  (0, 17)\t-1.0872781580010684\n",
      "  (0, 18)\t0.23293633710277387\n",
      "  (0, 19)\t-0.6489247535071269\n",
      "  (0, 20)\t0.9007818899896537\n",
      "  (0, 21)\t0.09673599074161547\n",
      "  (0, 22)\t0.09673599074161547\n",
      "  (0, 23)\t-1.3995613925794361\n",
      "  (0, 24)\t-0.07222039837222677\n",
      "  (0, 25)\t0.1274540877860897\n",
      "  (0, 26)\t-1.5803666666666671\n",
      "  :\t:\n",
      "  (28502, 28467)\t0.1295371825641837\n",
      "  (28502, 28468)\t0.25907436512836757\n",
      "  (28502, 28469)\t-5.551115123125783e-17\n",
      "  (28502, 28474)\t1.7984746068253417\n",
      "  (28502, 28475)\t-0.7347060355029265\n",
      "  (28502, 28478)\t-0.6514225510373428\n",
      "  (28502, 28480)\t-0.7283125530979124\n",
      "  (28502, 28482)\t-0.18319324041386822\n",
      "  (28502, 28483)\t-0.15865\n",
      "  (28502, 28484)\t-0.15865\n",
      "  (28502, 28485)\t-1.942890293094024e-16\n",
      "  (28502, 28487)\t0.977133826556014\n",
      "  (28502, 28489)\t0.15864999999999999\n",
      "  (28502, 28490)\t0.15864999999999999\n",
      "  (28502, 28491)\t0.1831932404138682\n",
      "  (28502, 28492)\t2.220446049250313e-16\n",
      "  (28502, 28494)\t-0.2590743651283674\n",
      "  (28502, 28495)\t-0.1295371825641837\n",
      "  (28502, 28496)\t1.942890293094024e-16\n",
      "  (28502, 28497)\t0.2896539458273153\n",
      "  (28502, 28498)\t0.7177133829043454\n",
      "  (28502, 28499)\t-0.7177133829043454\n",
      "  (28502, 28500)\t2.220446049250313e-16\n",
      "  (28502, 28501)\t-1.5265566588595902e-16\n",
      "  (28502, 28502)\t-32.89519999999998\n"
     ]
    }
   ],
   "source": [
    "print(NSMHamiltonian.twobody_operator)"
   ]
  },
  {
   "cell_type": "code",
   "execution_count": 29,
   "id": "8d1c9648",
   "metadata": {},
   "outputs": [
    {
     "name": "stdout",
     "output_type": "stream",
     "text": [
      "<COOrdinate sparse matrix of dtype 'float64'\n",
      "\twith 3582 stored elements and shape (28503, 28503)>\n",
      "  Coords\tValues\n",
      "  (0, 0)\t-1.0\n",
      "  (1, 1)\t-1.0\n",
      "  (2, 2)\t-1.0\n",
      "  (3, 3)\t-1.0\n",
      "  (4, 4)\t-1.0\n",
      "  (5, 5)\t-1.0\n",
      "  (6, 6)\t-1.0\n",
      "  (7, 7)\t-1.0\n",
      "  (8, 8)\t-1.0\n",
      "  (11, 11)\t-1.0\n",
      "  (12, 12)\t-1.0\n",
      "  (13, 13)\t-1.0\n",
      "  (14, 14)\t-1.0\n",
      "  (15, 15)\t-1.0\n",
      "  (16, 16)\t-1.0\n",
      "  (17, 17)\t-1.0\n",
      "  (18, 18)\t-1.0\n",
      "  (20, 20)\t-1.0\n",
      "  (21, 21)\t-1.0\n",
      "  (22, 22)\t-1.0\n",
      "  (23, 23)\t-1.0\n",
      "  (24, 24)\t-1.0\n",
      "  (25, 25)\t-1.0\n",
      "  (26, 26)\t-1.0\n",
      "  (27, 27)\t-1.0\n",
      "  :\t:\n",
      "  (16578, 16578)\t-1.0\n",
      "  (16579, 16579)\t-1.0\n",
      "  (16580, 16580)\t-1.0\n",
      "  (16584, 16584)\t-1.0\n",
      "  (16585, 16585)\t-1.0\n",
      "  (16586, 16586)\t-1.0\n",
      "  (16588, 16588)\t-1.0\n",
      "  (16589, 16589)\t-1.0\n",
      "  (16592, 16592)\t-1.0\n",
      "  (16593, 16593)\t-1.0\n",
      "  (16596, 16596)\t-1.0\n",
      "  (16600, 16600)\t-1.0\n",
      "  (16601, 16601)\t-1.0\n",
      "  (16602, 16602)\t-1.0\n",
      "  (16603, 16603)\t-1.0\n",
      "  (16604, 16604)\t-1.0\n",
      "  (16610, 16610)\t-1.0\n",
      "  (16611, 16611)\t-1.0\n",
      "  (16616, 16616)\t-1.0\n",
      "  (16625, 16625)\t-1.0\n",
      "  (16626, 16626)\t-1.0\n",
      "  (16627, 16627)\t-1.0\n",
      "  (16641, 16641)\t-1.0\n",
      "  (16642, 16642)\t-1.0\n",
      "  (16659, 16659)\t-1.0\n"
     ]
    }
   ],
   "source": [
    "print(NSMHamiltonian.adag_adag_a_a_matrix_optimized(1,17,1,17))\n",
    "\n"
   ]
  },
  {
   "cell_type": "markdown",
   "id": "5f937f0c",
   "metadata": {},
   "source": [
    "At this point, getting the spectrum is easy as getting the empadronamiento in Barcelona (joke)"
   ]
  },
  {
   "cell_type": "code",
   "execution_count": 30,
   "id": "4b518509",
   "metadata": {},
   "outputs": [
    {
     "name": "stdout",
     "output_type": "stream",
     "text": [
      "energy ground state=-92.775 Mev \n",
      "\n"
     ]
    }
   ],
   "source": [
    "egs,psigs=NSMHamiltonian.get_spectrum(n_states=1) #we are only interested in the gs \n",
    "\n",
    "print(f'energy ground state={egs[0]:.5} Mev \\n')\n"
   ]
  },
  {
   "cell_type": "markdown",
   "id": "e2c07062",
   "metadata": {},
   "source": [
    "We can also play with other attributes that the Hamiltonian can provide, such as 2-body operators $T_{ab}^{cd}=c^{+}_a c^{+}_{b} c_c c_d$"
   ]
  },
  {
   "cell_type": "code",
   "execution_count": 20,
   "id": "322c3353",
   "metadata": {},
   "outputs": [
    {
     "name": "stdout",
     "output_type": "stream",
     "text": [
      "expectation value= 0.19708205121236266\n"
     ]
    }
   ],
   "source": [
    "t_0312=NSMHamiltonian.adag_adag_a_a_matrix(0,3,1,2) # it's a matrix in the many-body basis\n",
    "\n",
    "# we compute the expectation value using Scipy <psi| T_01^23 |psi>\n",
    "expectation_value=psigs[:,0].conjugate().dot(t_0312.dot(psigs[:,0])) # the 0 index is because  psigs \\in [dim(Hilbert space),n_states]\n",
    "print('expectation value=',expectation_value)"
   ]
  },
  {
   "cell_type": "markdown",
   "id": "1348a6d1",
   "metadata": {},
   "source": [
    "To call the Hamiltonian we simply use"
   ]
  },
  {
   "cell_type": "code",
   "execution_count": null,
   "id": "86821302",
   "metadata": {},
   "outputs": [],
   "source": [
    "print(NSMHamiltonian.hamiltonian)"
   ]
  }
 ],
 "metadata": {
  "kernelspec": {
   "display_name": "quantum_annealing_nsm",
   "language": "python",
   "name": "python3"
  },
  "language_info": {
   "codemirror_mode": {
    "name": "ipython",
    "version": 3
   },
   "file_extension": ".py",
   "mimetype": "text/x-python",
   "name": "python",
   "nbconvert_exporter": "python",
   "pygments_lexer": "ipython3",
   "version": "3.10.18"
  }
 },
 "nbformat": 4,
 "nbformat_minor": 5
}

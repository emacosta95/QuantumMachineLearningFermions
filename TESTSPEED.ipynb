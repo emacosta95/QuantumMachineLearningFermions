{
 "cells": [
  {
   "cell_type": "code",
   "execution_count": 31,
   "id": "4b3d27cd",
   "metadata": {},
   "outputs": [],
   "source": [
    "from src.NSMFermions.fermi_hubbard_library import build_mask_mapping,_adag_adag_a_a_loop_numba_with_dict\n",
    "from src.NSMFermions.hamiltonian_utils import FermiHubbardHamiltonian\n",
    "import numpy as np"
   ]
  },
  {
   "cell_type": "code",
   "execution_count": 33,
   "id": "71b631b2",
   "metadata": {},
   "outputs": [],
   "source": [
    "FHH=FermiHubbardHamiltonian(4,0,2,0,)\n"
   ]
  },
  {
   "cell_type": "code",
   "execution_count": 35,
   "id": "fa16763b",
   "metadata": {},
   "outputs": [
    {
     "name": "stdout",
     "output_type": "stream",
     "text": [
      "[[1 1 0 0]\n",
      " [1 0 1 0]\n",
      " [1 0 0 1]\n",
      " [0 1 1 0]\n",
      " [0 1 0 1]\n",
      " [0 0 1 1]]\n",
      "[ 3  5  9  6 10 12]\n"
     ]
    }
   ],
   "source": [
    "print(FHH.basis)\n",
    "m,mask2index=build_mask_mapping(FHH.basis)\n",
    "print(m)\n",
    "\n",
    "prefix_sums = np.cumsum(FHH.basis, axis=1)\n",
    "prefix_sums = np.hstack([np.zeros((FHH.basis.shape[0], 1), dtype=prefix_sums.dtype),\n",
    "                         prefix_sums[:, :-1]])"
   ]
  },
  {
   "cell_type": "code",
   "execution_count": null,
   "id": "04dac72d",
   "metadata": {},
   "outputs": [
    {
     "data": {
      "text/plain": [
       "0"
      ]
     },
     "execution_count": 26,
     "metadata": {},
     "output_type": "execute_result"
    }
   ],
   "source": []
  },
  {
   "cell_type": "code",
   "execution_count": 36,
   "id": "81c5e351",
   "metadata": {},
   "outputs": [
    {
     "name": "stdout",
     "output_type": "stream",
     "text": [
      "[[0 1 2 2]\n",
      " [0 1 1 2]\n",
      " [0 1 1 1]\n",
      " [0 0 1 2]\n",
      " [0 0 1 1]\n",
      " [0 0 0 1]]\n"
     ]
    }
   ],
   "source": [
    "print(prefix_sums)"
   ]
  },
  {
   "cell_type": "code",
   "execution_count": null,
   "id": "aa99d7c3",
   "metadata": {},
   "outputs": [
    {
     "name": "stdout",
     "output_type": "stream",
     "text": [
      "<Compressed Sparse Row sparse matrix of dtype 'float64'\n",
      "\twith 1 stored elements and shape (6, 6)>\n",
      "  Coords\tValues\n",
      "  (5, 0)\t-1.0\n"
     ]
    }
   ],
   "source": [
    "print(FHH.adag_adag_a_a_matrix(2,3,0,1).tocsr())\n",
    "print(FHH.adag_adag_a_a_matrix(3,2,0,1).tocsr())\n"
   ]
  },
  {
   "cell_type": "code",
   "execution_count": null,
   "id": "ef9e08a2",
   "metadata": {},
   "outputs": [
    {
     "ename": "AttributeError",
     "evalue": "'tuple' object has no attribute 'tocsr'",
     "output_type": "error",
     "traceback": [
      "\u001b[0;31m---------------------------------------------------------------------------\u001b[0m",
      "\u001b[0;31mAttributeError\u001b[0m                            Traceback (most recent call last)",
      "Cell \u001b[0;32mIn[29], line 1\u001b[0m\n\u001b[0;32m----> 1\u001b[0m \u001b[43m_adag_adag_a_a_loop_numba_with_dict\u001b[49m\u001b[43m(\u001b[49m\u001b[43mbase\u001b[49m\u001b[43m,\u001b[49m\u001b[43mprefix_sums\u001b[49m\u001b[43m,\u001b[49m\u001b[38;5;241;43m1\u001b[39;49m\u001b[43m,\u001b[49m\u001b[38;5;241;43m2\u001b[39;49m\u001b[43m,\u001b[49m\u001b[38;5;241;43m0\u001b[39;49m\u001b[43m,\u001b[49m\u001b[38;5;241;43m3\u001b[39;49m\u001b[43m,\u001b[49m\u001b[43mm\u001b[49m\u001b[43m,\u001b[49m\u001b[43mmask2index\u001b[49m\u001b[43m)\u001b[49m\u001b[38;5;241;43m.\u001b[39;49m\u001b[43mtocsr\u001b[49m()\n",
      "\u001b[0;31mAttributeError\u001b[0m: 'tuple' object has no attribute 'tocsr'"
     ]
    }
   ],
   "source": [
    "\n"
   ]
  }
 ],
 "metadata": {
  "kernelspec": {
   "display_name": "quantum_annealing_nsm",
   "language": "python",
   "name": "python3"
  },
  "language_info": {
   "codemirror_mode": {
    "name": "ipython",
    "version": 3
   },
   "file_extension": ".py",
   "mimetype": "text/x-python",
   "name": "python",
   "nbconvert_exporter": "python",
   "pygments_lexer": "ipython3",
   "version": "3.10.18"
  }
 },
 "nbformat": 4,
 "nbformat_minor": 5
}

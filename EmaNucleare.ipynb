{
 "cells": [
  {
   "cell_type": "markdown",
   "id": "2e9aef23",
   "metadata": {},
   "source": [
    "# SBD on nuclear shell model"
   ]
  },
  {
   "cell_type": "code",
   "execution_count": 4,
   "id": "927e1dad",
   "metadata": {},
   "outputs": [],
   "source": [
    "from src.hamiltonian_utils import FermiHubbardHamiltonian\n",
    "from src.utils_quasiparticle_approximation import HardcoreBosonsBasis\n",
    "from src.nuclear_physics_utils import get_twobody_nuclearshell_model,SingleParticleState\n",
    "import numpy as np\n",
    "import torch\n",
    "from typing import Dict\n",
    "import scipy\n",
    "from src.qml_models import AdaptVQEFermiHubbard\n",
    "from src.qml_utils.train import Fit\n",
    "from src.qml_utils.utils import configuration\n",
    "from scipy.sparse.linalg import eigsh,expm_multiply\n",
    "from tqdm import trange\n",
    "import matplotlib.pyplot as plt\n",
    "from src.fermi_hubbard_library import FemionicBasis\n",
    "import numpy as np\n",
    "from typing import List, Dict\n",
    "from scipy.linalg import expm\n",
    "import scipy\n",
    "from scipy.sparse.linalg import expm_multiply\n",
    "from scipy.optimize import minimize\n",
    "from scipy.sparse import coo_matrix\n",
    "from scipy.sparse import lil_matrix\n",
    "from scipy.optimize import minimize\n",
    "from scipy import sparse\n",
    "from src.hartree_fock_library import HFEnergyFunctional,HFEnergyFunctionalNuclear\n",
    "import torch\n",
    "import torch.nn as nn\n",
    "import torch.optim as optim\n",
    "\n",
    "\n",
    "file_name='data/cki'\n",
    "\n",
    "SPS=SingleParticleState(file_name=file_name)"
   ]
  },
  {
   "cell_type": "code",
   "execution_count": 5,
   "id": "d3ae5bc1",
   "metadata": {},
   "outputs": [],
   "source": [
    "nparticles_a=4\n",
    "nparticles_b=2 # Berillium\n",
    "\n",
    "size_a=SPS.energies.shape[0]//2\n",
    "size_b=SPS.energies.shape[0]//2\n",
    "\n",
    "title=r'$^{20}$O'"
   ]
  },
  {
   "cell_type": "markdown",
   "id": "483c0130",
   "metadata": {},
   "source": [
    "Exact solution:"
   ]
  },
  {
   "cell_type": "code",
   "execution_count": 6,
   "id": "a56fc46f",
   "metadata": {},
   "outputs": [
    {
     "name": "stdout",
     "output_type": "stream",
     "text": [
      "size= 12 6\n",
      "Computing the matrix, pls wait... (u_u) \n",
      "\n"
     ]
    },
    {
     "name": "stderr",
     "output_type": "stream",
     "text": [
      "100%|██████████| 12/12 [00:01<00:00,  8.55it/s]\n",
      "1424it [00:01, 737.50it/s]\n"
     ]
    },
    {
     "name": "stdout",
     "output_type": "stream",
     "text": [
      "[-39.4534158]\n",
      "total_m= 5.4969050145015075e-17\n",
      "dimension= 51\n"
     ]
    }
   ],
   "source": [
    "\n",
    "# Compute the J^2 value\n",
    "#J2Class=J2operator(size_a=size_a,size_b=size_b,nparticles_a=nparticles_a,nparticles_b=nparticles_b,single_particle_states=SPS.state_encoding,j_square_filename=file_name+'_j2',symmetries=[SPS.total_M_zero])\n",
    "\n",
    "#Quadrupole Operator\n",
    "\n",
    "\n",
    "# compute the NSM Hamiltonian\n",
    "NSMHamiltonian=FermiHubbardHamiltonian(size_a=size_a,size_b=size_b,nparticles_a=nparticles_a,nparticles_b=nparticles_b,symmetries=[SPS.total_M_zero])\n",
    "print('size=',size_a+size_b,size_b)\n",
    "NSMHamiltonian.get_external_potential(external_potential=SPS.energies[:size_a+size_b])\n",
    "if file_name=='data/cki':\n",
    "    twobody_matrix,energies=get_twobody_nuclearshell_model(file_name=file_name)\n",
    "\n",
    "    NSMHamiltonian.get_twobody_interaction(twobody_dict=twobody_matrix)\n",
    "else:\n",
    "    NSMHamiltonian.twobody_operator=scipy.sparse.load_npz(f'data/nuclear_twobody_matrix/usdb_{nparticles_a}_{nparticles_b}.npz')\n",
    "NSMHamiltonian.get_hamiltonian()\n",
    "\n",
    "####\n",
    "H = NSMHamiltonian.hamiltonian # hamiltonian as sparse matrix\n",
    "basis = NSMHamiltonian.basis # basis\n",
    "###\n",
    "\n",
    "egs,psi0=NSMHamiltonian.get_spectrum(n_states=1) # exact solution, later to confront\n",
    "psi0 = psi0.reshape(-1)\n",
    "\n",
    "print(egs)\n",
    "\n",
    "print('total_m=',SPS.compute_m_exp_value(psi=psi0,basis=NSMHamiltonian.basis))\n",
    "#print('j_value=',J2Class.j_value(psi0))\n",
    "print('dimension=',NSMHamiltonian.hamiltonian.shape[0])"
   ]
  },
  {
   "cell_type": "markdown",
   "id": "ee89c394",
   "metadata": {},
   "source": [
    "Hartree-Fock"
   ]
  },
  {
   "cell_type": "markdown",
   "id": "7f1a132a",
   "metadata": {},
   "source": [
    "Load the two-body matrix"
   ]
  },
  {
   "cell_type": "code",
   "execution_count": 4,
   "id": "e7c66262",
   "metadata": {},
   "outputs": [
    {
     "name": "stdout",
     "output_type": "stream",
     "text": [
      "Computing the matrix, pls wait... (u_u) \n",
      "\n"
     ]
    },
    {
     "name": "stderr",
     "output_type": "stream",
     "text": [
      "100%|██████████| 12/12 [00:01<00:00,  6.80it/s]\n"
     ]
    }
   ],
   "source": [
    "twobody_matrix,energies=get_twobody_nuclearshell_model(file_name=file_name)"
   ]
  },
  {
   "cell_type": "code",
   "execution_count": 7,
   "id": "ec74d9a4",
   "metadata": {},
   "outputs": [
    {
     "name": "stdout",
     "output_type": "stream",
     "text": [
      "Step    0 | Energy = -18.654127\n",
      "Step   20 | Energy = -23.157318\n",
      "Step   40 | Energy = -27.103947\n",
      "Step   60 | Energy = -31.144436\n",
      "Step   80 | Energy = -32.195399\n",
      "Step  100 | Energy = -32.675352\n",
      "Step  120 | Energy = -33.068493\n",
      "Step  140 | Energy = -33.466555\n",
      "Step  160 | Energy = -33.827171\n",
      "Step  180 | Energy = -34.051166\n",
      "Step  200 | Energy = -34.136633\n",
      "Step  220 | Energy = -34.158373\n",
      "Step  240 | Energy = -34.162731\n",
      "Step  260 | Energy = -34.163475\n",
      "Step  280 | Energy = -34.163579\n",
      "Step  300 | Energy = -34.163589\n",
      "Step  320 | Energy = -34.163590\n",
      "Step  340 | Energy = -34.163590\n",
      "Step  360 | Energy = -34.163590\n",
      "Step  380 | Energy = -34.163590\n",
      "Step  400 | Energy = -34.163590\n",
      "Step  420 | Energy = -34.163590\n",
      "Step  440 | Energy = -34.163590\n",
      "Step  460 | Energy = -34.163590\n",
      "Step  480 | Energy = -34.163590\n",
      "Step  500 | Energy = -34.163590\n",
      "Step  520 | Energy = -34.163590\n",
      "Step  540 | Energy = -34.163590\n",
      "Step  560 | Energy = -34.163590\n",
      "Step  580 | Energy = -34.163590\n",
      "Step  599 | Energy = -34.163590\n"
     ]
    }
   ],
   "source": [
    "\n",
    "#model=HFEnergyFunctional(h_vec=torch.tensor(SPS.energies),V_dict=twobody_matrix,num_particles=nparticles_a+nparticles_b)\n",
    "model=HFEnergyFunctionalNuclear(h_vec=torch.tensor(SPS.energies,dtype=torch.double),V_dict=twobody_matrix,num_neutrons=nparticles_a,num_protons=nparticles_b,neutron_indices=0,proton_indices=size_a)\n",
    "\n",
    "optimizer = optim.Adam(model.parameters(), lr=0.01)\n",
    "\n",
    "num_steps = 600\n",
    "for step in range(num_steps):\n",
    "    optimizer.zero_grad()\n",
    "    energy = model()  # calls forward()\n",
    "    energy.backward()\n",
    "    optimizer.step()\n",
    "\n",
    "    if step % 20 == 0 or step == num_steps - 1:\n",
    "        print(f\"Step {step:4d} | Energy = {energy.item():.6f}\")"
   ]
  },
  {
   "cell_type": "code",
   "execution_count": 8,
   "id": "1f27ce08",
   "metadata": {},
   "outputs": [],
   "source": [
    "def slater_determinants_combined(C_n, C_p, fock_basis):\n",
    "    \"\"\"\n",
    "    C_n: [M_half, N_n]  -- neutron orbitals\n",
    "    C_p: [M_half, N_p]  -- proton orbitals\n",
    "    fock_basis: [F, M]  -- full occupation basis (neutrons + protons)\n",
    "\n",
    "    Returns:\n",
    "        psi: [F]  -- Slater determinant amplitudes\n",
    "    \"\"\"\n",
    "    F, M = fock_basis.shape\n",
    "    M_half = M // 2\n",
    "    N_n = C_n.shape[1]\n",
    "    N_p = C_p.shape[1]\n",
    "\n",
    "    psi = torch.zeros(F, dtype=C_n.dtype)\n",
    "\n",
    "    for i in range(F):\n",
    "        occ = fock_basis[i]  # [M]\n",
    "\n",
    "        occ_n = torch.nonzero(occ[:M_half]).squeeze()\n",
    "        occ_p = torch.nonzero(occ[M_half:]).squeeze()+M_half\n",
    "\n",
    "        Cn_sub = C_n[occ_n, :]  # shape [N_n, N_n]\n",
    "        Cp_sub = C_p[occ_p, :]  # shape [N_p, N_p]\n",
    "\n",
    "        if Cn_sub.shape[0] != N_n or Cp_sub.shape[0] != N_p:\n",
    "            # Skip invalid configurations (e.g., wrong number of particles)\n",
    "            continue\n",
    "\n",
    "        det_n = torch.det(Cn_sub)\n",
    "        det_p = torch.det(Cp_sub)\n",
    "        psi[i] = det_n * det_p\n",
    "\n",
    "\n",
    "    return psi  # [F]\n",
    "\n",
    "def slater_determinants_only_neutrons(C_n, fock_basis):\n",
    "    \"\"\"\n",
    "    C_n: [M_half, N_n]  -- neutron orbitals\n",
    "    C_p: [M_half, N_p]  -- proton orbitals\n",
    "    fock_basis: [F, M]  -- full occupation basis (neutrons + protons)\n",
    "\n",
    "    Returns:\n",
    "        psi: [F]  -- Slater determinant amplitudes\n",
    "    \"\"\"\n",
    "    F, M = fock_basis.shape\n",
    "    M_half = M // 2\n",
    "    N_n = C_n.shape[1]\n",
    "\n",
    "\n",
    "    psi = torch.zeros(F, dtype=C_n.dtype)\n",
    "\n",
    "    for i in range(F):\n",
    "        occ = fock_basis[i]  # [M]\n",
    "\n",
    "        occ_n = torch.nonzero(occ[:M_half]).squeeze()\n",
    "\n",
    "\n",
    "        Cn_sub = C_n[occ_n, :]  # shape [N_n, N_n]\n",
    "\n",
    "\n",
    "\n",
    "\n",
    "        det_n = torch.det(Cn_sub)\n",
    "\n",
    "        psi[i] = det_n \n",
    "\n",
    "    return psi  # [F]\n"
   ]
  },
  {
   "cell_type": "code",
   "execution_count": 9,
   "id": "5b4570f0",
   "metadata": {},
   "outputs": [],
   "source": [
    "\n",
    "#psi_hf=slater_determinants_only_neutrons(model.C_n, torch.tensor(NSMHamiltonian.basis))\n",
    "psi_hf=slater_determinants_combined(model.C_n, model.C_p, torch.tensor(NSMHamiltonian.basis))\n",
    "\n",
    "psi_hf=psi_hf.detach().numpy()\n",
    "\n",
    "psi_hf=psi_hf/np.linalg.norm(psi_hf)"
   ]
  },
  {
   "cell_type": "code",
   "execution_count": 10,
   "id": "58ac9f88",
   "metadata": {},
   "outputs": [
    {
     "name": "stdout",
     "output_type": "stream",
     "text": [
      "-35.68670852050728\n",
      "(51,)\n",
      "fidelity= 0.6207778366019057\n"
     ]
    }
   ],
   "source": [
    "\n",
    "\n",
    "print(psi_hf.conjugate() @ NSMHamiltonian.hamiltonian @ psi_hf)\n",
    "print(psi_hf.shape)\n",
    "print('fidelity=',psi0[:].conjugate().dot(psi_hf)*np.conjugate(psi0[:].conjugate().dot(psi_hf)))"
   ]
  },
  {
   "cell_type": "markdown",
   "id": "73d9be1e",
   "metadata": {},
   "source": [
    "Voglio una classe Nuclear shell model sqd ansatz (trova un nome migliore hahah), i suoi parametri sono H e la base oppure numero particelle e per il resto fa automatico. Voglio i seguenti metodi:\n",
    "- Inizializzazione stato con lo stato della base con minore energia\n",
    "- Creazione operator pool\n",
    "- compute state con produttoria delle unitarie ottenute esponenziando la somma degli operatori nell'operator pool sommati con il loro complesso coniugato fatta con scipy exp multiply applicato a stato precedente (se prima iter a quello dell'inizializzazione)\n",
    "- fare SQD con quello stato e stimare energia con SQD\n",
    "\n",
    "In secondo momento sarà da aggiungere anche minimizzazione energia!!!\n"
   ]
  },
  {
   "cell_type": "code",
   "execution_count": 35,
   "id": "96fc47bd",
   "metadata": {},
   "outputs": [],
   "source": [
    "import itertools\n",
    "from scipy.optimize import dual_annealing\n",
    "from typing import Optional\n",
    "from cma import CMAEvolutionStrategy\n",
    "\n",
    "\n",
    "\n",
    "class NSM_SQD_circuit_ansatz:\n",
    "\n",
    "    def __init__(self,twobody_matrix:Dict, NSMHamiltonian, samples = 20, batches =100, train_steps = 10,num_parameters=30):\n",
    "\n",
    "\n",
    "\n",
    "        self.NSMHamiltonian=NSMHamiltonian\n",
    "        self.twobody_matrix=twobody_matrix\n",
    "        ####\n",
    "        self.H = NSMHamiltonian.hamiltonian # hamiltonian as sparse matrix\n",
    "        self.basis = NSMHamiltonian.basis # basis\n",
    "        ###\n",
    "\n",
    "        self.l = len(self.basis[0]) # lunghezza un elemento base\n",
    "        self.psi = np.zeros(len(self.basis))\n",
    "        self.E = 0.\n",
    "\n",
    "        self.seed = 1024\n",
    "\n",
    "        self.samples = samples # number of samples for sqd energy estimation\n",
    "        self.batches = batches # different batches for sqd to make an average of the energy\n",
    "        self.train_steps = train_steps # steps in optimization\n",
    "        self.num_parameters = num_parameters # number of parameters in the ansatz\n",
    "\n",
    "    def initialize_state_minslater(self): # ref state is the element of the basis with the minimum energy\n",
    "        self.psi = np.zeros(len(self.basis))  \n",
    "        diag = self.H.diagonal()\n",
    "        min_state_idx = diag.argmin()\n",
    "        self.psi[min_state_idx] = 1. \n",
    "        self.psi /= np.linalg.norm(self.psi)\n",
    "        self.E = diag.min()\n",
    "        return None\n",
    "\n",
    "    def initialize_state_random(self,ns): # ref state is the element of the basis with the minimum energy\n",
    "        self.psi = np.zeros(len(self.basis)) \n",
    "        diag = self.H.diagonal()\n",
    "        min_indices = np.argsort(diag)[:ns]\n",
    "        self.psi[min_indices] = 1. / np.sqrt(ns)\n",
    "        self.psi /= np.linalg.norm(self.psi)\n",
    "        self.E = diag[min_indices].mean()\n",
    "        return None\n",
    "\n",
    "    def initialize_state_hartreefock(self,psi_hf): # ref state is the element of the basis with the minimum energy\n",
    "        self.psi = psi_hf\n",
    "        self.E = self.psi.transpose().conj() @ self.H @ self.psi\n",
    "        return None\n",
    "\n",
    "\n",
    "    def create_operator_pool_twobody_symmetry(self,original_operator_pool): # nella pool two body op che rispettano i miquel constraints\n",
    "        \n",
    "        self.operator_pool=original_operator_pool\n",
    "        vs, ops, keys = [], [], []\n",
    "        for key, op in self.operator_pool.items():\n",
    "            if key in self.twobody_matrix:\n",
    "                vs.append(self.twobody_matrix[key])\n",
    "                ops.append(op)\n",
    "                keys.append(key)\n",
    "\n",
    "        vs = np.abs(np.array(vs))\n",
    "        selection = np.argsort(vs)[-self.num_parameters:][::-1]\n",
    "        selected_vs = vs[selection]\n",
    "\n",
    "\n",
    "        new_operator_pool = {keys[idx]: ops[idx] for idx in selection}\n",
    "        self.operator_pool = new_operator_pool\n",
    "        self.operator_pool_list = list(self.operator_pool.values())\n",
    "        np.random.seed(self.seed) \n",
    "        self.weights = np.zeros(len(self.operator_pool))#np.random.uniform(-1.3, 1.3, size=len(self.operator_pool))\n",
    "        return None\n",
    "\n",
    "    def forward(self, weights): # compute psi\n",
    "        psi = self.psi.copy()\n",
    "        if self.weights is not(None):\n",
    "            \n",
    "            for i, w in enumerate(weights):\n",
    "                # print(np.conj(expm(self.weights[i] * op).T) @ expm(self.weights[i] * op))\n",
    "                psi = scipy.sparse.linalg.expm_multiply( (0. + 1j) * w * self.operator_pool_list[i],psi) \n",
    "                psi = psi / np.linalg.norm(psi)\n",
    "\n",
    "        return psi\n",
    "\n",
    "    def SQD(self, weights): #output è energia stimata con SQD (compute energy functional)\n",
    "        psi = self.forward(weights)\n",
    "        prob = (np.conjugate(psi) * psi).real # .real needed to change data type from complex to float\n",
    "        self.prob=prob.copy()\n",
    "        Ham = self.H.copy()\n",
    "        np.random.seed(self.seed) # seed con cui calcolo il vettore random i cui elementi sono i seed dei diversi batch\n",
    "        seeds = np.random.randint(1, 30002, size=self.batches)\n",
    "        e = np.zeros(self.batches)\n",
    "        self.psi_batches=np.zeros((self.batches,self.psi.shape[0]))\n",
    "        for k,s in enumerate(seeds):\n",
    "            np.random.seed(s)\n",
    "            #print('non zero prob=',np.nonzero(prob)[0].shape[0])\n",
    "\n",
    "            \n",
    "            if np.nonzero(prob)[0].shape[0]<self.samples:\n",
    "                raw_selection = np.random.choice(len(self.basis), size=self.samples * 5, replace=True, p=prob)\n",
    "                # oversample to increase chance of enough unique values\n",
    "                selection = []\n",
    "                seen = set()\n",
    "                for idx in raw_selection:\n",
    "                    if idx not in seen:\n",
    "                        seen.add(idx)\n",
    "                        selection.append(idx)\n",
    "                    if len(selection) == self.samples:\n",
    "                        break\n",
    "\n",
    "                # In case not enough unique indices are collected, pad with random ones\n",
    "                if len(selection) < self.samples:\n",
    "                    remaining = list(set(range(len(self.basis))) - seen)\n",
    "                    np.random.shuffle(remaining)\n",
    "                    selection.extend(remaining[: self.samples - len(selection)])\n",
    "\n",
    "                selection = np.array(selection)\n",
    "\n",
    "            else:\n",
    "                \n",
    "                raw_selection = np.random.choice(len(self.basis), size=self.samples * 5, replace=True, p=prob)\n",
    "                # oversample to increase chance of enough unique values\n",
    "                selection = []\n",
    "                seen = set()\n",
    "                for idx in raw_selection:\n",
    "                    if idx not in seen:\n",
    "                        seen.add(idx)\n",
    "                        selection.append(idx)\n",
    "                    if len(selection) == self.samples:\n",
    "                        break\n",
    "\n",
    "                # In case not enough unique indices are collected, pad with random ones\n",
    "                if len(selection) < self.samples:\n",
    "                    remaining = list(set(range(len(self.basis))) - seen)\n",
    "                    np.random.shuffle(remaining)\n",
    "                    selection.extend(remaining[: self.samples - len(selection)])\n",
    "\n",
    "                selection = np.array(selection)\n",
    "\n",
    "            if len(selection)!=1:    \n",
    "                effective_hamiltonian=  Ham.tocsr()[selection,:][:,selection]\n",
    "\n",
    "                value,eighvec = eigsh(effective_hamiltonian, k=1, which=\"SA\", maxiter=int(1E6), ) # Diagonalization of reduced H\n",
    "                e[k]=value[0]\n",
    "                self.psi_batches[k,selection]=eighvec[:,0]\n",
    "            \n",
    "            else:\n",
    "                e[k]=Ham[selection[0],selection[0]]\n",
    "            \n",
    "        self.variance=np.std(e)\n",
    "        return np.average(e)\n",
    "    \n",
    "    def cobyla_callback(self, x):\n",
    "        # Callback function for COBYLA (optional, for printing intermediate results)\n",
    "        print(f\"Current COBYLA weights: {np.linalg.norm(x)}, SQD: {self.SQD(x)} Variance energy {self.variance}\")\n",
    "        self.weights = x\n",
    "    def optimization(self):\n",
    "\n",
    "                    \n",
    "        for i in range(self.train_steps):\n",
    "            # COBYLA optimization\n",
    "            res2 = minimize(self.SQD,\n",
    "                            x0=self.weights,\n",
    "                            method='L-BFGS-B', #'COBYLA', #'Nelder-Mead', #'L-BFGS-B', #'Powell', # method for optimization\n",
    "                            options={'disp':True,\"iprint\": 2},\n",
    "                            callback=self.cobyla_callback,\n",
    "                            #maxiter=200,       # number of iterations\n",
    "                            #maxfun=1000,       # max evaluations\n",
    "                            )\n",
    "\n",
    "            self.weights = res2.x  # update weights\n",
    "            self.E = self.SQD(self.weights)\n",
    "            self.psi = self.forward(self.weights)\n",
    "\n",
    "            print(f'\\n--- Training Step {i+1} ---')\n",
    "            print('Optimization Success =', res2.success)\n",
    "            print('Energy (SQD) =', self.E)\n",
    "            print('Message =', res2.message)\n",
    "            print('Current weights =', self.weights)\n",
    "            print('Number of function evaluations =', res2.nfev)\n",
    "\n",
    "\n",
    "    def optimization_annealing(self):\n",
    "        \"\"\"\n",
    "        Optimization routine using dual annealing (simulated annealing variant).\n",
    "        \"\"\"\n",
    "\n",
    "        # Define bounds for parameters\n",
    "        # (scale according to expected operator weight range, e.g. [-2, 2])\n",
    "        bounds = [(-2.0, 2.0)] * len(self.weights)\n",
    "\n",
    "        for i in range(self.train_steps):\n",
    "            print(f\"\\n--- Simulated Annealing Step {i+1} ---\")\n",
    "\n",
    "            res = dual_annealing(\n",
    "                self.SQD,\n",
    "                bounds=bounds,\n",
    "                #maxiter=200,       # number of annealing iterations\n",
    "                #maxfun=5000,       # max evaluations\n",
    "                seed=self.seed+i,  # different seed per step for exploration\n",
    "                callback=self.annealing_callback,\n",
    "            )\n",
    "\n",
    "            # Update weights and state\n",
    "            self.weights = res.x\n",
    "            self.E = self.SQD(self.weights)\n",
    "            self.psi = self.forward(self.weights)\n",
    "\n",
    "            print(\"Optimization Success =\", res.success)\n",
    "            print(\"Energy (SQD) =\", self.E)\n",
    "            print(\"Message =\", res.message)\n",
    "            print(\"Current weights =\", self.weights)\n",
    "            print(\"Number of function evaluations =\", res.nfev)\n",
    "\n",
    "    def optimization_new(self,):\n",
    "        \n",
    "        es = CMAEvolutionStrategy(self.weights, 1, {\n",
    "        'maxiter': 2000,       # maximum number of iterations\n",
    "        'verb_disp': 1,     # display every iteration (set 10 for every 10 iterations)\n",
    "        'verb_log': 1,      # write log files every iteration\n",
    "        'verb_time': 1,     # print timing info\n",
    "        'verb_append': 0,   # overwrite logs instead of appending\n",
    "        'popsize': 50,         # number of samples per iteration\n",
    "        'tolx': 1e-8,          # stop if change in x is small\n",
    "        })\n",
    "\n",
    "        res = es.optimize(self.SQD)\n",
    "\n",
    "        print(\"Best solution:\", res.result.xbest)\n",
    "        print(\"Best function value:\", res.result.fbest)\n",
    "                \n",
    "    def annealing_callback(self,x, f, context,*args):\n",
    "        print(f\"Step context: {context} | Energy: {f} \\n\")\n",
    "        self.weights=x.copy()\n",
    "        #print(f\"Weights: {x}\\n\")\n",
    "        \n",
    "    \n",
    "        "
   ]
  },
  {
   "cell_type": "markdown",
   "id": "ebe6b6ee",
   "metadata": {},
   "source": [
    "##### Full operator pool"
   ]
  },
  {
   "cell_type": "code",
   "execution_count": 36,
   "id": "b7916fbc",
   "metadata": {},
   "outputs": [],
   "source": [
    "def miquel_constrainer(idxs:List[int]):\n",
    "\n",
    "    if SPS.projection_conservation(idxs=idxs):\n",
    "        if NSMHamiltonian.charge_computation(initial_indices=idxs[:2],final_indices=idxs[2:]):\n",
    "            op=NSMHamiltonian.adag_adag_a_a_matrix(idxs[0],idxs[1],idxs[2],idxs[3])\n",
    "            diag_op = sparse.diags(op.diagonal())\n",
    "\n",
    "            non_diag_op =np.abs( op - diag_op)\n",
    "            if not(np.isclose(non_diag_op.sum(),0.)):\n",
    "                condition=True\n",
    "            else:\n",
    "                condition=False\n",
    "        \n",
    "        else:\n",
    "            condition=False\n",
    "    else:\n",
    "        condition=False\n",
    "                \n",
    "    return condition\n",
    "\n",
    "\n",
    "def miquel_constrainer_2(idxs:List[int]):\n",
    "    _,_,j0,_,_,tz0=SPS.state_encoding[idxs[0]]\n",
    "    _,_,j1,_,_,tz1=SPS.state_encoding[idxs[1]]\n",
    "    _,_,j2,_,_,tz2=SPS.state_encoding[idxs[2]]\n",
    "    _,_,j3,_,_,tz3=SPS.state_encoding[idxs[3]]\n",
    "    \n",
    "    j_tot_i = np.arange(start=int(np.abs(j0 - j1)), stop=int(j0 + j1) + 1)  # Include j0 + j1\n",
    "    j_tot_f = np.arange(start=int(np.abs(j2 - j3)), stop=int(j2 + j3) + 1)  # Include j2 + j3\n",
    "    #print(j_tot_i,j0,j1)\n",
    "    if tz0==tz1:\n",
    "        if j0==j1:\n",
    "            j_tot_i=[j for j in j_tot_i if j % 2==0 ]\n",
    "            #print('i=',j_tot_i,j0,j1)\n",
    "        if j2==j3:\n",
    "            j_tot_f=[j for j in j_tot_f if j % 2==0 ]\n",
    "            #print('f=',j_tot_f,j2,j3,'\\n')\n",
    "        if set(j_tot_i) & set(j_tot_f):\n",
    "            \n",
    "            \n",
    "            condition=True\n",
    "        else:\n",
    "            \n",
    "            condition=False\n",
    "\n",
    "    else:\n",
    "\n",
    "    \n",
    "        if set(j_tot_i) & set(j_tot_f):\n",
    "            condition=True\n",
    "        else:\n",
    "\n",
    "            condition=False\n",
    "\n",
    "\n",
    "            \n",
    "    return condition\n",
    "\n",
    "def miquel_constrainer_3(idxs:List[int]):\n",
    "    condition=False\n",
    "    p=np.random.uniform(0,1)\n",
    "    if SPS.projection_conservation(idxs=idxs):\n",
    "        if p<1:\n",
    "            condition=True\n",
    "                \n",
    "    return condition"
   ]
  },
  {
   "cell_type": "code",
   "execution_count": 37,
   "id": "359dead6",
   "metadata": {},
   "outputs": [],
   "source": [
    "operator_pool:Dict={}\n",
    "operator_pool = NSMHamiltonian.set_operator_pool(operator_pool=operator_pool,conditions=[SPS.projection_conservation,miquel_constrainer_2,miquel_constrainer,miquel_constrainer_3],nbody='two')\n",
    "        "
   ]
  },
  {
   "cell_type": "code",
   "execution_count": 38,
   "id": "edef14f3",
   "metadata": {},
   "outputs": [],
   "source": [
    "m = NSM_SQD_circuit_ansatz(samples=20, train_steps=10,num_parameters=100,batches=1000,twobody_matrix=twobody_matrix,NSMHamiltonian=NSMHamiltonian) # nb da samples = 48 da e esatta se si parte da prob esatta\n",
    "m.initialize_state_hartreefock(psi_hf)\n",
    "\n",
    "m.create_operator_pool_twobody_symmetry(operator_pool)"
   ]
  },
  {
   "cell_type": "code",
   "execution_count": 43,
   "id": "30e8b2da",
   "metadata": {},
   "outputs": [
    {
     "name": "stdout",
     "output_type": "stream",
     "text": [
      "100\n",
      "[0. 0. 0. 0. 0. 0. 0. 0. 0. 0. 0. 0. 0. 0. 0. 0. 0. 0. 0. 0. 0. 0. 0. 0.\n",
      " 0. 0. 0. 0. 0. 0. 0. 0. 0. 0. 0. 0. 0. 0. 0. 0. 0. 0. 0. 0. 0. 0. 0. 0.\n",
      " 0. 0. 0. 0. 0. 0. 0. 0. 0. 0. 0. 0. 0. 0. 0. 0. 0. 0. 0. 0. 0. 0. 0. 0.\n",
      " 0. 0. 0. 0. 0. 0. 0. 0. 0. 0. 0. 0. 0. 0. 0. 0. 0. 0. 0. 0. 0. 0. 0. 0.\n",
      " 0. 0. 0. 0.]\n"
     ]
    }
   ],
   "source": [
    "print(len(m.operator_pool))\n",
    "print(m.weights)"
   ]
  },
  {
   "cell_type": "code",
   "execution_count": 40,
   "id": "e8e4cf94",
   "metadata": {},
   "outputs": [
    {
     "data": {
      "text/plain": [
       "np.float64(-35.68670852050728)"
      ]
     },
     "execution_count": 40,
     "metadata": {},
     "output_type": "execute_result"
    }
   ],
   "source": [
    "\n",
    "\n",
    "m.psi\n",
    "m.E"
   ]
  },
  {
   "cell_type": "code",
   "execution_count": 41,
   "id": "5c12557a",
   "metadata": {},
   "outputs": [
    {
     "data": {
      "text/plain": [
       "np.float64(-36.2736026683908)"
      ]
     },
     "execution_count": 41,
     "metadata": {},
     "output_type": "execute_result"
    }
   ],
   "source": [
    "m.SQD(np.zeros(m.weights.shape))"
   ]
  },
  {
   "cell_type": "code",
   "execution_count": 42,
   "id": "c93c4ad5",
   "metadata": {},
   "outputs": [
    {
     "name": "stdout",
     "output_type": "stream",
     "text": [
      "(25_w,50)-aCMA-ES (mu_w=14.0,w_1=14%) in dimension 100 (seed=969888, Thu Sep 25 17:52:39 2025)\n",
      "Iterat #Fevals   function value  axis ratio  sigma  min&max std  t[m:s]\n",
      "    1     50 -3.504222873496131e+01 1.0e+00 9.41e-01  9e-01  9e-01 0:40.5\n",
      "    2    100 -3.544368363432896e+01 1.0e+00 9.00e-01  9e-01  9e-01 1:19.6\n",
      "    3    150 -3.512918450408809e+01 1.0e+00 8.72e-01  9e-01  9e-01 2:01.3\n",
      "    4    200 -3.475922365945338e+01 1.0e+00 8.51e-01  8e-01  9e-01 2:41.4\n",
      "    5    250 -3.486571953475820e+01 1.0e+00 8.31e-01  8e-01  8e-01 3:23.1\n",
      "    6    300 -3.555056129585373e+01 1.0e+00 8.19e-01  8e-01  8e-01 4:02.3\n",
      "    7    350 -3.563165045618653e+01 1.0e+00 8.15e-01  8e-01  8e-01 4:41.7\n",
      "    8    400 -3.532469801031652e+01 1.1e+00 8.12e-01  8e-01  8e-01 5:21.2\n",
      "    9    450 -3.550512555392338e+01 1.1e+00 8.09e-01  8e-01  8e-01 6:01.7\n",
      "   10    500 -3.494190960239587e+01 1.1e+00 8.10e-01  8e-01  8e-01 6:40.0\n",
      "Iterat #Fevals   function value  axis ratio  sigma  min&max std  t[m:s]\n",
      "   11    550 -3.552604610197585e+01 1.1e+00 8.08e-01  8e-01  8e-01 7:20.3\n",
      "   12    600 -3.574478650100224e+01 1.1e+00 8.16e-01  8e-01  8e-01 7:58.7\n"
     ]
    },
    {
     "ename": "KeyboardInterrupt",
     "evalue": "",
     "output_type": "error",
     "traceback": [
      "\u001b[0;31m---------------------------------------------------------------------------\u001b[0m",
      "\u001b[0;31mKeyboardInterrupt\u001b[0m                         Traceback (most recent call last)",
      "Cell \u001b[0;32mIn[42], line 1\u001b[0m\n\u001b[0;32m----> 1\u001b[0m \u001b[43mm\u001b[49m\u001b[38;5;241;43m.\u001b[39;49m\u001b[43moptimization_new\u001b[49m\u001b[43m(\u001b[49m\u001b[43m)\u001b[49m\n",
      "Cell \u001b[0;32mIn[35], line 231\u001b[0m, in \u001b[0;36mNSM_SQD_circuit_ansatz.optimization_new\u001b[0;34m(self)\u001b[0m\n\u001b[1;32m    219\u001b[0m \u001b[38;5;28;01mdef\u001b[39;00m\u001b[38;5;250m \u001b[39m\u001b[38;5;21moptimization_new\u001b[39m(\u001b[38;5;28mself\u001b[39m,):\n\u001b[1;32m    221\u001b[0m     es \u001b[38;5;241m=\u001b[39m CMAEvolutionStrategy(\u001b[38;5;28mself\u001b[39m\u001b[38;5;241m.\u001b[39mweights, \u001b[38;5;241m1\u001b[39m, {\n\u001b[1;32m    222\u001b[0m     \u001b[38;5;124m'\u001b[39m\u001b[38;5;124mmaxiter\u001b[39m\u001b[38;5;124m'\u001b[39m: \u001b[38;5;241m2000\u001b[39m,       \u001b[38;5;66;03m# maximum number of iterations\u001b[39;00m\n\u001b[1;32m    223\u001b[0m     \u001b[38;5;124m'\u001b[39m\u001b[38;5;124mverb_disp\u001b[39m\u001b[38;5;124m'\u001b[39m: \u001b[38;5;241m1\u001b[39m,     \u001b[38;5;66;03m# display every iteration (set 10 for every 10 iterations)\u001b[39;00m\n\u001b[0;32m   (...)\u001b[0m\n\u001b[1;32m    228\u001b[0m     \u001b[38;5;124m'\u001b[39m\u001b[38;5;124mtolx\u001b[39m\u001b[38;5;124m'\u001b[39m: \u001b[38;5;241m1e-8\u001b[39m,          \u001b[38;5;66;03m# stop if change in x is small\u001b[39;00m\n\u001b[1;32m    229\u001b[0m     })\n\u001b[0;32m--> 231\u001b[0m     res \u001b[38;5;241m=\u001b[39m \u001b[43mes\u001b[49m\u001b[38;5;241;43m.\u001b[39;49m\u001b[43moptimize\u001b[49m\u001b[43m(\u001b[49m\u001b[38;5;28;43mself\u001b[39;49m\u001b[38;5;241;43m.\u001b[39;49m\u001b[43mSQD\u001b[49m\u001b[43m)\u001b[49m\n\u001b[1;32m    233\u001b[0m     \u001b[38;5;28mprint\u001b[39m(\u001b[38;5;124m\"\u001b[39m\u001b[38;5;124mBest solution:\u001b[39m\u001b[38;5;124m\"\u001b[39m, res\u001b[38;5;241m.\u001b[39mresult\u001b[38;5;241m.\u001b[39mxbest)\n\u001b[1;32m    234\u001b[0m     \u001b[38;5;28mprint\u001b[39m(\u001b[38;5;124m\"\u001b[39m\u001b[38;5;124mBest function value:\u001b[39m\u001b[38;5;124m\"\u001b[39m, res\u001b[38;5;241m.\u001b[39mresult\u001b[38;5;241m.\u001b[39mfbest)\n",
      "File \u001b[0;32m~/miniconda3/envs/quantum_annealing_nsm/lib/python3.10/site-packages/cma/interfaces.py:208\u001b[0m, in \u001b[0;36mOOOptimizer.optimize\u001b[0;34m(self, objective_fct, maxfun, iterations, min_iterations, args, verb_disp, callback, n_jobs, **kwargs)\u001b[0m\n\u001b[1;32m    206\u001b[0m X \u001b[38;5;241m=\u001b[39m \u001b[38;5;28mself\u001b[39m\u001b[38;5;241m.\u001b[39mask()  \u001b[38;5;66;03m# deliver candidate solutions\u001b[39;00m\n\u001b[1;32m    207\u001b[0m \u001b[38;5;66;03m# fitvals = [objective_fct(x, *args) for x in X]\u001b[39;00m\n\u001b[0;32m--> 208\u001b[0m fitvals \u001b[38;5;241m=\u001b[39m \u001b[43meval_all\u001b[49m\u001b[43m(\u001b[49m\u001b[43mX\u001b[49m\u001b[43m,\u001b[49m\u001b[43m \u001b[49m\u001b[43margs\u001b[49m\u001b[38;5;241;43m=\u001b[39;49m\u001b[43margs\u001b[49m\u001b[43m)\u001b[49m\n\u001b[1;32m    209\u001b[0m cevals \u001b[38;5;241m+\u001b[39m\u001b[38;5;241m=\u001b[39m \u001b[38;5;28mlen\u001b[39m(fitvals)\n\u001b[1;32m    210\u001b[0m \u001b[38;5;28mself\u001b[39m\u001b[38;5;241m.\u001b[39mtell(X, fitvals)  \u001b[38;5;66;03m# all the work is done here\u001b[39;00m\n",
      "File \u001b[0;32m~/miniconda3/envs/quantum_annealing_nsm/lib/python3.10/site-packages/cma/optimization_tools.py:285\u001b[0m, in \u001b[0;36mEvalParallel2.__call__\u001b[0;34m(self, solutions, fitness_function, args, timeout)\u001b[0m\n\u001b[1;32m    282\u001b[0m     \u001b[38;5;28;01mraise\u001b[39;00m \u001b[38;5;167;01mValueError\u001b[39;00m(\u001b[38;5;124m\"\u001b[39m\u001b[38;5;124m`fitness_function` was never given, must be\u001b[39m\u001b[38;5;124m\"\u001b[39m\n\u001b[1;32m    283\u001b[0m                      \u001b[38;5;124m\"\u001b[39m\u001b[38;5;124m passed in `__init__` or `__call__`\u001b[39m\u001b[38;5;124m\"\u001b[39m)\n\u001b[1;32m    284\u001b[0m \u001b[38;5;28;01mif\u001b[39;00m \u001b[38;5;129;01mnot\u001b[39;00m \u001b[38;5;28mself\u001b[39m\u001b[38;5;241m.\u001b[39mpool:\n\u001b[0;32m--> 285\u001b[0m     \u001b[38;5;28;01mreturn\u001b[39;00m [fitness_function(x, \u001b[38;5;241m*\u001b[39margs) \u001b[38;5;28;01mfor\u001b[39;00m x \u001b[38;5;129;01min\u001b[39;00m solutions]\n\u001b[1;32m    286\u001b[0m warning_str \u001b[38;5;241m=\u001b[39m (\u001b[38;5;124m\"\u001b[39m\u001b[38;5;124m`fitness_function` must be a function, not a\u001b[39m\u001b[38;5;124m\"\u001b[39m\n\u001b[1;32m    287\u001b[0m                \u001b[38;5;124m\"\u001b[39m\u001b[38;5;124m `lambda` or an instancemethod, in order to work with\u001b[39m\u001b[38;5;124m\"\u001b[39m\n\u001b[1;32m    288\u001b[0m                \u001b[38;5;124m\"\u001b[39m\u001b[38;5;124m `multiprocessing` under Python 2\u001b[39m\u001b[38;5;124m\"\u001b[39m)\n\u001b[1;32m    289\u001b[0m \u001b[38;5;28;01mif\u001b[39;00m sys\u001b[38;5;241m.\u001b[39mversion_info[\u001b[38;5;241m0\u001b[39m] \u001b[38;5;241m==\u001b[39m \u001b[38;5;241m2\u001b[39m:\n",
      "File \u001b[0;32m~/miniconda3/envs/quantum_annealing_nsm/lib/python3.10/site-packages/cma/optimization_tools.py:285\u001b[0m, in \u001b[0;36m<listcomp>\u001b[0;34m(.0)\u001b[0m\n\u001b[1;32m    282\u001b[0m     \u001b[38;5;28;01mraise\u001b[39;00m \u001b[38;5;167;01mValueError\u001b[39;00m(\u001b[38;5;124m\"\u001b[39m\u001b[38;5;124m`fitness_function` was never given, must be\u001b[39m\u001b[38;5;124m\"\u001b[39m\n\u001b[1;32m    283\u001b[0m                      \u001b[38;5;124m\"\u001b[39m\u001b[38;5;124m passed in `__init__` or `__call__`\u001b[39m\u001b[38;5;124m\"\u001b[39m)\n\u001b[1;32m    284\u001b[0m \u001b[38;5;28;01mif\u001b[39;00m \u001b[38;5;129;01mnot\u001b[39;00m \u001b[38;5;28mself\u001b[39m\u001b[38;5;241m.\u001b[39mpool:\n\u001b[0;32m--> 285\u001b[0m     \u001b[38;5;28;01mreturn\u001b[39;00m [\u001b[43mfitness_function\u001b[49m\u001b[43m(\u001b[49m\u001b[43mx\u001b[49m\u001b[43m,\u001b[49m\u001b[43m \u001b[49m\u001b[38;5;241;43m*\u001b[39;49m\u001b[43margs\u001b[49m\u001b[43m)\u001b[49m \u001b[38;5;28;01mfor\u001b[39;00m x \u001b[38;5;129;01min\u001b[39;00m solutions]\n\u001b[1;32m    286\u001b[0m warning_str \u001b[38;5;241m=\u001b[39m (\u001b[38;5;124m\"\u001b[39m\u001b[38;5;124m`fitness_function` must be a function, not a\u001b[39m\u001b[38;5;124m\"\u001b[39m\n\u001b[1;32m    287\u001b[0m                \u001b[38;5;124m\"\u001b[39m\u001b[38;5;124m `lambda` or an instancemethod, in order to work with\u001b[39m\u001b[38;5;124m\"\u001b[39m\n\u001b[1;32m    288\u001b[0m                \u001b[38;5;124m\"\u001b[39m\u001b[38;5;124m `multiprocessing` under Python 2\u001b[39m\u001b[38;5;124m\"\u001b[39m)\n\u001b[1;32m    289\u001b[0m \u001b[38;5;28;01mif\u001b[39;00m sys\u001b[38;5;241m.\u001b[39mversion_info[\u001b[38;5;241m0\u001b[39m] \u001b[38;5;241m==\u001b[39m \u001b[38;5;241m2\u001b[39m:\n",
      "Cell \u001b[0;32mIn[35], line 147\u001b[0m, in \u001b[0;36mNSM_SQD_circuit_ansatz.SQD\u001b[0;34m(self, weights)\u001b[0m\n\u001b[1;32m    144\u001b[0m \u001b[38;5;28;01mif\u001b[39;00m \u001b[38;5;28mlen\u001b[39m(selection)\u001b[38;5;241m!=\u001b[39m\u001b[38;5;241m1\u001b[39m:    \n\u001b[1;32m    145\u001b[0m     effective_hamiltonian\u001b[38;5;241m=\u001b[39m  Ham\u001b[38;5;241m.\u001b[39mtocsr()[selection,:][:,selection]\n\u001b[0;32m--> 147\u001b[0m     value,eighvec \u001b[38;5;241m=\u001b[39m \u001b[43meigsh\u001b[49m\u001b[43m(\u001b[49m\u001b[43meffective_hamiltonian\u001b[49m\u001b[43m,\u001b[49m\u001b[43m \u001b[49m\u001b[43mk\u001b[49m\u001b[38;5;241;43m=\u001b[39;49m\u001b[38;5;241;43m1\u001b[39;49m\u001b[43m,\u001b[49m\u001b[43m \u001b[49m\u001b[43mwhich\u001b[49m\u001b[38;5;241;43m=\u001b[39;49m\u001b[38;5;124;43m\"\u001b[39;49m\u001b[38;5;124;43mSA\u001b[39;49m\u001b[38;5;124;43m\"\u001b[39;49m\u001b[43m,\u001b[49m\u001b[43m \u001b[49m\u001b[43mmaxiter\u001b[49m\u001b[38;5;241;43m=\u001b[39;49m\u001b[38;5;28;43mint\u001b[39;49m\u001b[43m(\u001b[49m\u001b[38;5;241;43m1E6\u001b[39;49m\u001b[43m)\u001b[49m\u001b[43m,\u001b[49m\u001b[43m \u001b[49m\u001b[43m)\u001b[49m \u001b[38;5;66;03m# Diagonalization of reduced H\u001b[39;00m\n\u001b[1;32m    148\u001b[0m     e[k]\u001b[38;5;241m=\u001b[39mvalue[\u001b[38;5;241m0\u001b[39m]\n\u001b[1;32m    149\u001b[0m     \u001b[38;5;28mself\u001b[39m\u001b[38;5;241m.\u001b[39mpsi_batches[k,selection]\u001b[38;5;241m=\u001b[39meighvec[:,\u001b[38;5;241m0\u001b[39m]\n",
      "File \u001b[0;32m~/miniconda3/envs/quantum_annealing_nsm/lib/python3.10/site-packages/scipy/sparse/linalg/_eigen/arpack/arpack.py:1698\u001b[0m, in \u001b[0;36meigsh\u001b[0;34m(A, k, M, sigma, which, v0, ncv, maxiter, tol, return_eigenvectors, Minv, OPinv, mode)\u001b[0m\n\u001b[1;32m   1696\u001b[0m \u001b[38;5;28;01mwith\u001b[39;00m _ARPACK_LOCK:\n\u001b[1;32m   1697\u001b[0m     \u001b[38;5;28;01mwhile\u001b[39;00m \u001b[38;5;129;01mnot\u001b[39;00m params\u001b[38;5;241m.\u001b[39mconverged:\n\u001b[0;32m-> 1698\u001b[0m         \u001b[43mparams\u001b[49m\u001b[38;5;241;43m.\u001b[39;49m\u001b[43miterate\u001b[49m\u001b[43m(\u001b[49m\u001b[43m)\u001b[49m\n\u001b[1;32m   1700\u001b[0m     \u001b[38;5;28;01mreturn\u001b[39;00m params\u001b[38;5;241m.\u001b[39mextract(return_eigenvectors)\n",
      "File \u001b[0;32m~/miniconda3/envs/quantum_annealing_nsm/lib/python3.10/site-packages/scipy/sparse/linalg/_eigen/arpack/arpack.py:548\u001b[0m, in \u001b[0;36m_SymmetricArpackParams.iterate\u001b[0;34m(self)\u001b[0m\n\u001b[1;32m    542\u001b[0m \u001b[38;5;28;01mdef\u001b[39;00m\u001b[38;5;250m \u001b[39m\u001b[38;5;21miterate\u001b[39m(\u001b[38;5;28mself\u001b[39m):\n\u001b[1;32m    543\u001b[0m     \u001b[38;5;28mself\u001b[39m\u001b[38;5;241m.\u001b[39mido, \u001b[38;5;28mself\u001b[39m\u001b[38;5;241m.\u001b[39mtol, \u001b[38;5;28mself\u001b[39m\u001b[38;5;241m.\u001b[39mresid, \u001b[38;5;28mself\u001b[39m\u001b[38;5;241m.\u001b[39mv, \u001b[38;5;28mself\u001b[39m\u001b[38;5;241m.\u001b[39miparam, \u001b[38;5;28mself\u001b[39m\u001b[38;5;241m.\u001b[39mipntr, \u001b[38;5;28mself\u001b[39m\u001b[38;5;241m.\u001b[39minfo \u001b[38;5;241m=\u001b[39m \\\n\u001b[1;32m    544\u001b[0m         \u001b[38;5;28mself\u001b[39m\u001b[38;5;241m.\u001b[39m_arpack_solver(\u001b[38;5;28mself\u001b[39m\u001b[38;5;241m.\u001b[39mido, \u001b[38;5;28mself\u001b[39m\u001b[38;5;241m.\u001b[39mbmat, \u001b[38;5;28mself\u001b[39m\u001b[38;5;241m.\u001b[39mwhich, \u001b[38;5;28mself\u001b[39m\u001b[38;5;241m.\u001b[39mk,\n\u001b[1;32m    545\u001b[0m                             \u001b[38;5;28mself\u001b[39m\u001b[38;5;241m.\u001b[39mtol, \u001b[38;5;28mself\u001b[39m\u001b[38;5;241m.\u001b[39mresid, \u001b[38;5;28mself\u001b[39m\u001b[38;5;241m.\u001b[39mv, \u001b[38;5;28mself\u001b[39m\u001b[38;5;241m.\u001b[39miparam,\n\u001b[1;32m    546\u001b[0m                             \u001b[38;5;28mself\u001b[39m\u001b[38;5;241m.\u001b[39mipntr, \u001b[38;5;28mself\u001b[39m\u001b[38;5;241m.\u001b[39mworkd, \u001b[38;5;28mself\u001b[39m\u001b[38;5;241m.\u001b[39mworkl, \u001b[38;5;28mself\u001b[39m\u001b[38;5;241m.\u001b[39minfo)\n\u001b[0;32m--> 548\u001b[0m     xslice \u001b[38;5;241m=\u001b[39m \u001b[38;5;28;43mslice\u001b[39;49m\u001b[43m(\u001b[49m\u001b[38;5;28;43mself\u001b[39;49m\u001b[38;5;241;43m.\u001b[39;49m\u001b[43mipntr\u001b[49m\u001b[43m[\u001b[49m\u001b[38;5;241;43m0\u001b[39;49m\u001b[43m]\u001b[49m\u001b[43m \u001b[49m\u001b[38;5;241;43m-\u001b[39;49m\u001b[43m \u001b[49m\u001b[38;5;241;43m1\u001b[39;49m\u001b[43m,\u001b[49m\u001b[43m \u001b[49m\u001b[38;5;28;43mself\u001b[39;49m\u001b[38;5;241;43m.\u001b[39;49m\u001b[43mipntr\u001b[49m\u001b[43m[\u001b[49m\u001b[38;5;241;43m0\u001b[39;49m\u001b[43m]\u001b[49m\u001b[43m \u001b[49m\u001b[38;5;241;43m-\u001b[39;49m\u001b[43m \u001b[49m\u001b[38;5;241;43m1\u001b[39;49m\u001b[43m \u001b[49m\u001b[38;5;241;43m+\u001b[39;49m\u001b[43m \u001b[49m\u001b[38;5;28;43mself\u001b[39;49m\u001b[38;5;241;43m.\u001b[39;49m\u001b[43mn\u001b[49m\u001b[43m)\u001b[49m\n\u001b[1;32m    549\u001b[0m     yslice \u001b[38;5;241m=\u001b[39m \u001b[38;5;28mslice\u001b[39m(\u001b[38;5;28mself\u001b[39m\u001b[38;5;241m.\u001b[39mipntr[\u001b[38;5;241m1\u001b[39m] \u001b[38;5;241m-\u001b[39m \u001b[38;5;241m1\u001b[39m, \u001b[38;5;28mself\u001b[39m\u001b[38;5;241m.\u001b[39mipntr[\u001b[38;5;241m1\u001b[39m] \u001b[38;5;241m-\u001b[39m \u001b[38;5;241m1\u001b[39m \u001b[38;5;241m+\u001b[39m \u001b[38;5;28mself\u001b[39m\u001b[38;5;241m.\u001b[39mn)\n\u001b[1;32m    550\u001b[0m     \u001b[38;5;28;01mif\u001b[39;00m \u001b[38;5;28mself\u001b[39m\u001b[38;5;241m.\u001b[39mido \u001b[38;5;241m==\u001b[39m \u001b[38;5;241m-\u001b[39m\u001b[38;5;241m1\u001b[39m:\n\u001b[1;32m    551\u001b[0m         \u001b[38;5;66;03m# initialization\u001b[39;00m\n",
      "\u001b[0;31mKeyboardInterrupt\u001b[0m: "
     ]
    }
   ],
   "source": [
    "m.optimization_new()"
   ]
  },
  {
   "cell_type": "code",
   "execution_count": 40,
   "id": "c1c2d734",
   "metadata": {},
   "outputs": [
    {
     "name": "stdout",
     "output_type": "stream",
     "text": [
      "[1.76232474e-02 4.95251178e-01 7.16619711e-02 7.16619712e-02\n",
      " 2.39725379e-02 5.67812860e-05 1.64797545e-03 7.17180216e-03\n",
      " 2.87189792e-03 9.57299309e-04 2.15154065e-02 8.61569376e-03\n",
      " 2.87189793e-03 1.34859418e-03 3.78983989e-02 5.48383141e-03\n",
      " 5.48383141e-03 1.83446470e-03 1.86223932e-05 5.40481715e-04\n",
      " 1.34859418e-03 3.78983989e-02 5.48383141e-03 5.48383141e-03\n",
      " 1.83446470e-03 2.15154065e-02 2.87189792e-03 8.61569375e-03\n",
      " 1.81888659e-03 7.28360390e-04 2.42786797e-04 1.66655504e-03\n",
      " 4.68337833e-02 6.77676576e-03 6.77676576e-03 2.26698026e-03\n",
      " 7.17180216e-03 9.57299307e-04 2.87189792e-03 5.67812868e-05\n",
      " 1.64797545e-03 1.38085470e-03 3.88049888e-02 5.61501337e-03\n",
      " 5.61501337e-03 1.87834801e-03 1.81888659e-03 2.42786796e-04\n",
      " 7.28360389e-04 1.86223935e-05 5.40481714e-04]\n",
      "[0. 0. 0. 0. 0. 0. 0. 0. 0. 0. 0. 0. 0. 0. 0. 0. 0. 0. 0. 0. 0. 0. 0. 0.\n",
      " 0. 0. 0. 0. 0. 0. 0. 0. 0. 0. 0. 0. 0. 0. 0. 0. 0. 0. 0. 0. 0. 0. 0. 0.\n",
      " 0. 0. 0. 0. 0. 0. 0. 0. 0. 0. 0. 0. 0. 0. 0. 0. 0. 0. 0. 0. 0. 0. 0. 0.\n",
      " 0. 0. 0. 0. 0. 0. 0. 0. 0. 0. 0. 0. 0. 0. 0. 0. 0. 0. 0. 0. 0. 0. 0. 0.\n",
      " 0. 0. 0. 0.]\n"
     ]
    },
    {
     "data": {
      "image/png": "[encoded data removed]",
      "text/plain": [
       "<Figure size 640x480 with 1 Axes>"
      ]
     },
     "metadata": {},
     "output_type": "display_data"
    },
    {
     "data": {
      "image/png": "[encoded data removed]",
      "text/plain": [
       "<Figure size 640x480 with 1 Axes>"
      ]
     },
     "metadata": {},
     "output_type": "display_data"
    }
   ],
   "source": [
    "probb = (np.conjugate(m.forward(m.weights)) * m.forward(m.weights)).real\n",
    "\n",
    "print(probb)\n",
    "print(m.weights)\n",
    "plt.plot(m.forward(m.weights))\n",
    "plt.loglog()\n",
    "plt.show()\n",
    "prob_samples=np.average((np.conjugate(m.psi_batches) * m.psi_batches),axis=0).real\n",
    "\n",
    "plt.plot(probb)\n",
    "plt.plot(prob_samples)\n",
    "plt.loglog()\n",
    "plt.show()"
   ]
  },
  {
   "cell_type": "code",
   "execution_count": 30,
   "id": "fc17bef6",
   "metadata": {},
   "outputs": [
    {
     "name": "stdout",
     "output_type": "stream",
     "text": [
      "[0. 0. 0. 0. 0. 0. 0. 0. 0. 0. 0. 0. 0. 0. 0. 0. 0. 0. 0. 0. 0. 0. 0. 0.\n",
      " 0. 0. 0. 0. 0. 0. 0. 0. 0. 0. 0. 0. 0. 0. 0. 0. 0. 0. 0. 0. 0. 0. 0. 0.\n",
      " 0. 0. 0. 0. 0. 0. 0. 0. 0. 0. 0. 0. 0. 0. 0. 0. 0. 0. 0. 0. 0. 0. 0. 0.\n",
      " 0. 0. 0. 0. 0. 0. 0. 0. 0. 0. 0. 0. 0. 0. 0. 0. 0. 0. 0. 0. 0. 0. 0. 0.\n",
      " 0. 0. 0. 0.]\n"
     ]
    },
    {
     "data": {
      "image/png": "[encoded data removed]",
      "text/plain": [
       "<Figure size 3000x600 with 1 Axes>"
      ]
     },
     "metadata": {},
     "output_type": "display_data"
    }
   ],
   "source": [
    "plt.figure(figsize=(30,6))\n",
    "\n",
    "plt.bar(np.arange(psi0.shape[0]),(np.conjugate(psi0) * psi0).real)\n",
    "\n",
    "plt.bar(np.arange(m.psi.shape[0]),probb,alpha=0.5)\n",
    "\n",
    "#plt.bar(np.arange(m.psi.shape[0]),prob_samples,alpha=0.5)\n",
    "\n",
    "print(m.weights)"
   ]
  },
  {
   "cell_type": "code",
   "execution_count": 31,
   "id": "8fdaf751",
   "metadata": {},
   "outputs": [
    {
     "name": "stdout",
     "output_type": "stream",
     "text": [
      "0.3085393075697696\n",
      "-35.99806332010709\n",
      "0.7119815403143566\n",
      "-36.26659382362861\n",
      "0.6278855585003623\n",
      "-35.875728151412666\n",
      "0.4238494620781938\n",
      "-34.96790050275006\n",
      "0.5054560176021712\n",
      "-35.58857463800183\n",
      "0.40881448586231933\n",
      "-36.20136833299011\n",
      "0.646363842289732\n",
      "-35.70463918161943\n",
      "0.6979881709647634\n",
      "-36.005194703375665\n",
      "0.6691418168134177\n",
      "-35.12940949319196\n",
      "0.487587186812468\n",
      "-35.915861992847695\n",
      "0.6955717704640285\n",
      "-36.33278007492956\n",
      "0.6445236223131717\n",
      "-36.298464731741035\n",
      "0.7201373774290297\n",
      "-35.77348564624942\n",
      "0.7528787531986294\n",
      "-36.423765198770006\n",
      "0.633277659224783\n",
      "-36.04737722705098\n",
      "0.6313965254919602\n",
      "-36.142372526246675\n",
      "0.6692131820403657\n",
      "-36.18043886453595\n",
      "0.7264575258175321\n",
      "-35.912030334536695\n",
      "0.6473547710442249\n",
      "-36.44192532962248\n",
      "0.6394094834965104\n",
      "-35.340068650755384\n",
      "0.7419557687370886\n",
      "-36.02782008402489\n",
      "0.6233776899395376\n",
      "-36.37131542210661\n",
      "0.6533806464697294\n",
      "-36.44253769399261\n",
      "0.7563834345665382\n",
      "-35.987118772581354\n",
      "0.657968662534667\n",
      "-36.01967163627548\n",
      "0.6376368359046756\n",
      "-35.38172552233302\n",
      "0.6050269795075501\n",
      "-35.790141605155235\n",
      "0.4541706534316822\n",
      "-36.449915873148946\n",
      "0.7864113035992915\n",
      "-35.5148686807212\n",
      "0.5998398688559401\n"
     ]
    }
   ],
   "source": [
    "fidelities=np.conjugate(np.einsum('ai,i->a',m.psi_batches,psi0))*np.einsum('ai,i->a',m.psi_batches,psi0)\n",
    "print(np.average(fidelities))\n",
    "for i in range(71,100):\n",
    "    print(m.psi_batches[i].dot(NSMHamiltonian.hamiltonian.dot(m.psi_batches[i])))\n",
    "    fidelities=np.conjugate(np.einsum('i,i->',m.psi_batches[i],psi0))*np.einsum('i,i->',m.psi_batches[i],psi0)\n",
    "    print(np.average(fidelities))\n"
   ]
  },
  {
   "cell_type": "markdown",
   "id": "449749fe",
   "metadata": {},
   "source": [
    "## Analysis Variational SDG"
   ]
  },
  {
   "cell_type": "code",
   "execution_count": 1,
   "id": "faa6e9e8",
   "metadata": {},
   "outputs": [],
   "source": [
    "import numpy as np\n",
    "import matplotlib.pyplot as plt"
   ]
  },
  {
   "cell_type": "code",
   "execution_count": 2,
   "id": "3b7258d5",
   "metadata": {},
   "outputs": [
    {
     "name": "stdout",
     "output_type": "stream",
     "text": [
      "-82.7106383403427\n"
     ]
    }
   ],
   "source": [
    "data=np.load('data/sdg/usdb_8_2_400_samples_10_steps_1000_parameters_1000_batches.npz')\n",
    "\n",
    "weights=data['weights']\n",
    "E=data['energy']\n",
    "print(E)\n",
    "variance=data['variance']\n",
    "psi=data['psi']\n",
    "history=data['history']\n",
    "history_variance=data['history_variance']\n",
    "prob=data['prob']\n",
    "psis=data['psis']\n"
   ]
  },
  {
   "cell_type": "code",
   "execution_count": 8,
   "id": "4e0cb14d",
   "metadata": {},
   "outputs": [
    {
     "name": "stdout",
     "output_type": "stream",
     "text": [
      "-85.22493868738701\n"
     ]
    }
   ],
   "source": [
    "data=np.load('data/sdg/usdb_8_2_200_samples_10_steps_400_parameters_1000_batches.npz')\n",
    "\n",
    "weights=data['weights']\n",
    "E=data['energy']\n",
    "\n",
    "print(E)\n",
    "variance=data['variance']\n",
    "psi=data['psi']\n",
    "history_600=data['history']\n",
    "history_variance=data['history_variance']\n",
    "prob=data['prob']\n",
    "psis=data['psis']"
   ]
  },
  {
   "cell_type": "code",
   "execution_count": 9,
   "id": "a75e2d6a",
   "metadata": {},
   "outputs": [
    {
     "data": {
      "image/png": "[encoded data removed]",
      "text/plain": [
       "<Figure size 640x480 with 1 Axes>"
      ]
     },
     "metadata": {},
     "output_type": "display_data"
    },
    {
     "data": {
      "image/png": "[encoded data removed]",
      "text/plain": [
       "<Figure size 640x480 with 1 Axes>"
      ]
     },
     "metadata": {},
     "output_type": "display_data"
    }
   ],
   "source": [
    "plt.plot(history)\n",
    "plt.plot(history_600)\n",
    "plt.show()\n",
    "\n",
    "plt.plot(history_variance)\n",
    "plt.loglog()\n",
    "plt.show()"
   ]
  }
 ],
 "metadata": {
  "kernelspec": {
   "display_name": "quantum_annealing_nsm",
   "language": "python",
   "name": "python3"
  },
  "language_info": {
   "codemirror_mode": {
    "name": "ipython",
    "version": 3
   },
   "file_extension": ".py",
   "mimetype": "text/x-python",
   "name": "python",
   "nbconvert_exporter": "python",
   "pygments_lexer": "ipython3",
   "version": "3.10.18"
  }
 },
 "nbformat": 4,
 "nbformat_minor": 5
}
